{
  "nbformat": 4,
  "nbformat_minor": 0,
  "metadata": {
    "kernelspec": {
      "display_name": "Python 3",
      "language": "python",
      "name": "python3"
    },
    "language_info": {
      "codemirror_mode": {
        "name": "ipython",
        "version": 3
      },
      "file_extension": ".py",
      "mimetype": "text/x-python",
      "name": "python",
      "nbconvert_exporter": "python",
      "pygments_lexer": "ipython3",
      "version": "3.7.4"
    },
    "colab": {
      "provenance": [],
      "toc_visible": true,
      "include_colab_link": true
    }
  },
  "cells": [
    {
      "cell_type": "markdown",
      "metadata": {
        "id": "view-in-github",
        "colab_type": "text"
      },
      "source": [
        "<a href=\"https://colab.research.google.com/github/para662/dataviz2025/blob/main/dictionary_function_loop_condition_2025.ipynb\" target=\"_parent\"><img src=\"https://colab.research.google.com/assets/colab-badge.svg\" alt=\"Open In Colab\"/></a>"
      ]
    },
    {
      "cell_type": "markdown",
      "source": [
        "# Dictionary\n"
      ],
      "metadata": {
        "id": "8Cy8weXRSEMc"
      }
    },
    {
      "cell_type": "code",
      "source": [
        "#dict จะบอกเป็นลำดับจะต้องระบุ 2 อย่าง\n",
        "#คือค่ากับตัวที่ระบุ\n",
        "dict_a = {'abc':'123','def':'456','ghi':'789'}\n",
        "dict_a"
      ],
      "metadata": {
        "colab": {
          "base_uri": "https://localhost:8080/"
        },
        "id": "RcJNgxMBSLPl",
        "outputId": "881fbef3-1f1d-40ed-d7a4-be17012d543f"
      },
      "execution_count": null,
      "outputs": [
        {
          "output_type": "execute_result",
          "data": {
            "text/plain": [
              "{'abc': '123', 'def': '456', 'ghi': '789'}"
            ]
          },
          "metadata": {},
          "execution_count": 9
        }
      ]
    },
    {
      "cell_type": "code",
      "source": [
        "dict_a ['abc']"
      ],
      "metadata": {
        "colab": {
          "base_uri": "https://localhost:8080/",
          "height": 35
        },
        "id": "cJv1OVypTFvc",
        "outputId": "7bdc8647-7811-4f2b-c162-8ebd65ec508c"
      },
      "execution_count": null,
      "outputs": [
        {
          "output_type": "execute_result",
          "data": {
            "text/plain": [
              "'123'"
            ],
            "application/vnd.google.colaboratory.intrinsic+json": {
              "type": "string"
            }
          },
          "metadata": {},
          "execution_count": 12
        }
      ]
    },
    {
      "cell_type": "code",
      "source": [
        "dict_b = {}"
      ],
      "metadata": {
        "id": "kqiUWBNZTpVH"
      },
      "execution_count": null,
      "outputs": []
    },
    {
      "cell_type": "code",
      "source": [
        "dict_b['a'] = 123"
      ],
      "metadata": {
        "id": "x2b7YyCfTzRN"
      },
      "execution_count": null,
      "outputs": []
    },
    {
      "cell_type": "code",
      "source": [
        "dict_b"
      ],
      "metadata": {
        "colab": {
          "base_uri": "https://localhost:8080/"
        },
        "id": "H3Nm5cUQT999",
        "outputId": "8e0a2053-faa3-42ce-e037-7d4b5a8a919a"
      },
      "execution_count": null,
      "outputs": [
        {
          "output_type": "execute_result",
          "data": {
            "text/plain": [
              "{'a': 123}"
            ]
          },
          "metadata": {},
          "execution_count": 17
        }
      ]
    },
    {
      "cell_type": "markdown",
      "source": [
        "HW1 note"
      ],
      "metadata": {
        "id": "2wnVRxt7Qw8x"
      }
    },
    {
      "cell_type": "code",
      "source": [
        "inp = '12:30:15-13:41:07'\n",
        "inp_list = inp.split('-')\n",
        "inp_list"
      ],
      "metadata": {
        "colab": {
          "base_uri": "https://localhost:8080/"
        },
        "id": "7b9PZ1gTQ0EA",
        "outputId": "b9f21012-312d-450a-dec1-1ecc4893a91c"
      },
      "execution_count": null,
      "outputs": [
        {
          "output_type": "execute_result",
          "data": {
            "text/plain": [
              "['12:30:15', '13:41:07']"
            ]
          },
          "metadata": {},
          "execution_count": 1
        }
      ]
    },
    {
      "cell_type": "markdown",
      "source": [
        "การ add สมาชิกเข้าไปใน dict"
      ],
      "metadata": {
        "id": "Lx-7vXJ9UWe9"
      }
    },
    {
      "cell_type": "code",
      "source": [
        "if 'b' not in dict_b:\n",
        "    dict_b['b'] = 200"
      ],
      "metadata": {
        "id": "KIX4FXUjUUU9"
      },
      "execution_count": null,
      "outputs": []
    },
    {
      "cell_type": "code",
      "source": [
        "dict_b"
      ],
      "metadata": {
        "colab": {
          "base_uri": "https://localhost:8080/"
        },
        "id": "skuRyYSuUnd-",
        "outputId": "0008f342-b543-48ef-c428-e3e69604cab1"
      },
      "execution_count": null,
      "outputs": [
        {
          "output_type": "execute_result",
          "data": {
            "text/plain": [
              "{'a': 123, 'b': 200}"
            ]
          },
          "metadata": {},
          "execution_count": 19
        }
      ]
    },
    {
      "cell_type": "markdown",
      "metadata": {
        "id": "-57L9aVubPqU"
      },
      "source": [
        "# Function"
      ]
    },
    {
      "cell_type": "markdown",
      "metadata": {
        "id": "1DNzYhO4bPqb"
      },
      "source": [
        "## Function template\n",
        "#### ทำหน้าที่รับ input มาประมวณผลออกมาเป็น output\n",
        "#### f(x) = y"
      ]
    },
    {
      "cell_type": "markdown",
      "metadata": {
        "id": "3Nv1ZDEKbPqc"
      },
      "source": [
        "### def คือการกำหนดฟังก์ชัน"
      ]
    },
    {
      "cell_type": "markdown",
      "metadata": {
        "id": "DbHDoWEabPqc"
      },
      "source": [
        "```python\n",
        "    def function_name(_Input_) :\n",
        "        do_something with _Input_ to get _Output_\n",
        "        return _Output_\n",
        "```"
      ]
    },
    {
      "cell_type": "markdown",
      "metadata": {
        "id": "1fuimreqpVhU"
      },
      "source": [
        "เราใช้ เว้นวรรค (indent) เพื่อบอกขอบเขตของโปรแกรม"
      ]
    },
    {
      "cell_type": "markdown",
      "metadata": {
        "id": "kh2M1smCl5Iv"
      },
      "source": [
        "function มีส่วนสำคัญทั้งหมด 4 ส่วน\n",
        "\n",
        "1.   บอก python ว่าเราจะเขียนฟังก์ชั่น ชื่ออะไร  ```def function_name():``` (ขาดไม่ได้)\n",
        "2.   กำหนดตัวแปรที่จะเป็น input  ```_Input_``` (ขาดได้)\n",
        "3.   ส่วนประมวลผล ```do_something with _Input_ to get _Output_``` (ขาดไม่ได้)\n",
        "4.   ส่วน output ```return _Output_```(ขาดได้)\n",
        "\n"
      ]
    },
    {
      "cell_type": "markdown",
      "metadata": {
        "id": "lqWzVN5AbPqc"
      },
      "source": [
        "#### ตัวอย่างการเขียน normal function\n"
      ]
    },
    {
      "cell_type": "code",
      "source": [
        "def print_myname():   # ตัวอย่าง function ที่ไม่มีทั้ง input และ output\n",
        "    print('Thanapong')"
      ],
      "metadata": {
        "id": "6wzfVo_pTefO"
      },
      "execution_count": null,
      "outputs": []
    },
    {
      "cell_type": "code",
      "source": [
        "print_myname()"
      ],
      "metadata": {
        "colab": {
          "base_uri": "https://localhost:8080/"
        },
        "id": "482E9UnsUMkC",
        "outputId": "a24addf7-925f-4c23-d22f-aa39f52828f3"
      },
      "execution_count": null,
      "outputs": [
        {
          "output_type": "stream",
          "name": "stdout",
          "text": [
            "Thanapong\n"
          ]
        }
      ]
    },
    {
      "cell_type": "code",
      "metadata": {
        "id": "n706WULobPqc"
      },
      "source": [
        "def print_name(surname,ID,name):        # ตัวอย่าง function ที่ มีครบุกส่วน\n",
        "    st = f'ชื่อ {name} นามสกุล {surname} รหัส {ID}'\n",
        "    return st"
      ],
      "execution_count": null,
      "outputs": []
    },
    {
      "cell_type": "code",
      "metadata": {
        "colab": {
          "base_uri": "https://localhost:8080/",
          "height": 35
        },
        "id": "muh0pi_Gkym8",
        "outputId": "3155c2c2-ca0e-476d-8673-7f4db668e855"
      },
      "source": [
        "print_name('อินทระ','64xxxxxx','ธนพงศ์')"
      ],
      "execution_count": null,
      "outputs": [
        {
          "output_type": "execute_result",
          "data": {
            "text/plain": [
              "'ชื่อ ธนพงศ์ นามสกุล อินทระ รหัส 64xxxxxx'"
            ],
            "application/vnd.google.colaboratory.intrinsic+json": {
              "type": "string"
            }
          },
          "metadata": {},
          "execution_count": 23
        }
      ]
    },
    {
      "cell_type": "code",
      "source": [
        "print_name(name='กาญจนา',surname='ประสาคุณ',ID='603021855-2')"
      ],
      "metadata": {
        "colab": {
          "base_uri": "https://localhost:8080/",
          "height": 35
        },
        "id": "vxooaHuHVTDJ",
        "outputId": "9e479747-4f6d-44fb-84b2-3a0b68488dc1"
      },
      "execution_count": null,
      "outputs": [
        {
          "output_type": "execute_result",
          "data": {
            "text/plain": [
              "'ชื่อ กาญจนา นามสกุล ประสาคุณ รหัส 603021855-2'"
            ],
            "application/vnd.google.colaboratory.intrinsic+json": {
              "type": "string"
            }
          },
          "metadata": {},
          "execution_count": 24
        }
      ]
    },
    {
      "cell_type": "markdown",
      "metadata": {
        "id": "tSV-FUQBpx0i"
      },
      "source": [
        "ฟังก์ชั่นไม่จำเป็นต้องมี output"
      ]
    },
    {
      "cell_type": "code",
      "metadata": {
        "id": "loNAFSvLo5dC"
      },
      "source": [
        "def print_name2(surname,ID,name):\n",
        "    st = f'ชื่อ {name} นามสกุล {surname} รหัส {ID}'\n",
        "    print(st)"
      ],
      "execution_count": null,
      "outputs": []
    },
    {
      "cell_type": "code",
      "metadata": {
        "colab": {
          "base_uri": "https://localhost:8080/"
        },
        "id": "JE88oCj8o_j_",
        "outputId": "cc84594a-5b6b-4b4a-d373-8ac7ab57e464"
      },
      "source": [
        "print_name2(name='กาญจนา',surname='ประสาคุณ',ID='603021855-2')"
      ],
      "execution_count": null,
      "outputs": [
        {
          "output_type": "stream",
          "name": "stdout",
          "text": [
            "ชื่อ กาญจนา นามสกุล ประสาคุณ รหัส 603021855-2\n"
          ]
        }
      ]
    },
    {
      "cell_type": "markdown",
      "source": [
        "### ข้อแตกต่างระหว่าง function ที่มีและไม่มี output"
      ],
      "metadata": {
        "id": "dW328wxLWauv"
      }
    },
    {
      "cell_type": "code",
      "source": [
        "out_printname1 = print_name(name='กาญจนา',surname='ประสาคุณ',ID='603021855-2') # มี output\n",
        "print(out_printname1)"
      ],
      "metadata": {
        "colab": {
          "base_uri": "https://localhost:8080/"
        },
        "id": "Ae6C6-DTWFOD",
        "outputId": "7345866b-4098-4a43-e182-eac3545ddd81"
      },
      "execution_count": null,
      "outputs": [
        {
          "output_type": "stream",
          "name": "stdout",
          "text": [
            "ชื่อ กาญจนา นามสกุล ประสาคุณ รหัส 603021855-2\n"
          ]
        }
      ]
    },
    {
      "cell_type": "code",
      "source": [
        "out_printname1"
      ],
      "metadata": {
        "colab": {
          "base_uri": "https://localhost:8080/",
          "height": 35
        },
        "id": "yPtH94N0WtsE",
        "outputId": "86d6ae6d-60c6-430d-a301-a78c67856fe6"
      },
      "execution_count": null,
      "outputs": [
        {
          "output_type": "execute_result",
          "data": {
            "text/plain": [
              "'ชื่อ กาญจนา นามสกุล ประสาคุณ รหัส 603021855-2'"
            ],
            "application/vnd.google.colaboratory.intrinsic+json": {
              "type": "string"
            }
          },
          "metadata": {},
          "execution_count": 28
        }
      ]
    },
    {
      "cell_type": "code",
      "source": [
        "out_printname2 = print_name2(name='กาญจนา',surname='ประสาคุณ',ID='603021855-2')  # ไม่มี output\n",
        "print(out_printname2)"
      ],
      "metadata": {
        "colab": {
          "base_uri": "https://localhost:8080/"
        },
        "id": "AbT5pKVYWRBn",
        "outputId": "f41d99be-589b-4ee7-977e-7a60c094efed"
      },
      "execution_count": null,
      "outputs": [
        {
          "output_type": "stream",
          "name": "stdout",
          "text": [
            "ชื่อ กาญจนา นามสกุล ประสาคุณ รหัส 603021855-2\n",
            "None\n"
          ]
        }
      ]
    },
    {
      "cell_type": "code",
      "source": [
        "out_printname2"
      ],
      "metadata": {
        "id": "l_fW68dyXDw3"
      },
      "execution_count": null,
      "outputs": []
    },
    {
      "cell_type": "markdown",
      "metadata": {
        "id": "JF4RdyEBqPyl"
      },
      "source": [
        "ฟังก์ชั่นไม่จำเป็นต้องมี input"
      ]
    },
    {
      "cell_type": "code",
      "metadata": {
        "id": "LNb_o_ZXo_gh"
      },
      "source": [
        "def Pi():\n",
        "    return 3.14159265359"
      ],
      "execution_count": null,
      "outputs": []
    },
    {
      "cell_type": "code",
      "metadata": {
        "colab": {
          "base_uri": "https://localhost:8080/"
        },
        "id": "htN6zLbFo_dr",
        "outputId": "d8a35a9d-362c-407d-ada2-9d42dea37069"
      },
      "source": [
        "Pi()*(2**2) # หาพื้นที่ของวงกลมที่มีรัศมีเท่ากับ Pi * r^2"
      ],
      "execution_count": null,
      "outputs": [
        {
          "output_type": "execute_result",
          "data": {
            "text/plain": [
              "12.56637061436"
            ]
          },
          "metadata": {},
          "execution_count": 32
        }
      ]
    },
    {
      "cell_type": "markdown",
      "metadata": {
        "id": "ywc0Ho-_rUTu"
      },
      "source": [
        "## เราสามารถกำหนดค่า default ให้กับ input ของฟังก์ชั่นได้"
      ]
    },
    {
      "cell_type": "markdown",
      "metadata": {
        "id": "y_74dHkjxS7f"
      },
      "source": [
        "input ของ function ใน python มีสองแบบ input ที่จำเป็นต้องใส่ กับ input ที่ไม่จำเป็นต้องใส่ (มีค่า default)\n",
        "\n",
        "เราต้องเรียง input ที่จำเป็นต้องใส่ขึ้นก่อน"
      ]
    },
    {
      "cell_type": "code",
      "metadata": {
        "id": "0Lrh-6mAo_bA"
      },
      "source": [
        "def print_2lines_default(name,surname,ID,grade='F'):\n",
        "    st = f'ชื่อ {name} นามสกุล {surname} รหัส {ID}'\n",
        "    print (st)\n",
        "    st2=f'เกรดวิชา Data Viz >>> {grade}'\n",
        "    print(st2)"
      ],
      "execution_count": null,
      "outputs": []
    },
    {
      "cell_type": "code",
      "metadata": {
        "colab": {
          "base_uri": "https://localhost:8080/"
        },
        "id": "ZH31VIjko_WP",
        "outputId": "c7cb9565-efeb-40a6-ccb6-c2956014d566"
      },
      "source": [
        "print_2lines_default('ธันยาการต์','พวงมาลัย','613020551-8')"
      ],
      "execution_count": null,
      "outputs": [
        {
          "output_type": "stream",
          "name": "stdout",
          "text": [
            "ชื่อ ธันยาการต์ นามสกุล พวงมาลัย รหัส 613020551-8\n",
            "เกรดวิชา Data Viz >>> F\n"
          ]
        }
      ]
    },
    {
      "cell_type": "code",
      "metadata": {
        "colab": {
          "base_uri": "https://localhost:8080/"
        },
        "id": "FKGr2Iyuo_S2",
        "outputId": "c67f5905-ea25-4d2b-f286-aa7dd49eef52"
      },
      "source": [
        "print_2lines_default('ธันยาการต์','พวงมาลัย','613020551-8','A')"
      ],
      "execution_count": null,
      "outputs": [
        {
          "output_type": "stream",
          "name": "stdout",
          "text": [
            "ชื่อ ธันยาการต์ นามสกุล พวงมาลัย รหัส 613020551-8\n",
            "เกรดวิชา Data Viz >>> A\n"
          ]
        }
      ]
    },
    {
      "cell_type": "code",
      "source": [
        "print_2lines_default('ธันยาการต์','พวงมาลัย','613020551-8',grade = 'A')"
      ],
      "metadata": {
        "colab": {
          "base_uri": "https://localhost:8080/"
        },
        "id": "Au_P2Cm8ZDXL",
        "outputId": "212711a7-3e18-4525-9a98-5eeff4c67743"
      },
      "execution_count": null,
      "outputs": [
        {
          "output_type": "stream",
          "name": "stdout",
          "text": [
            "ชื่อ ธันยาการต์ นามสกุล พวงมาลัย รหัส 613020551-8\n",
            "เกรดวิชา Data Viz >>> A\n"
          ]
        }
      ]
    },
    {
      "cell_type": "code",
      "source": [
        "print_2lines_default('ธันยาการต์','พวงมาลัย')"
      ],
      "metadata": {
        "colab": {
          "base_uri": "https://localhost:8080/",
          "height": 141
        },
        "id": "cLGa_pO1Zv1U",
        "outputId": "d2d91036-98b0-4cfb-f01b-dcb2d082ecbd"
      },
      "execution_count": null,
      "outputs": [
        {
          "output_type": "error",
          "ename": "TypeError",
          "evalue": "print_2lines_default() missing 1 required positional argument: 'ID'",
          "traceback": [
            "\u001b[0;31m---------------------------------------------------------------------------\u001b[0m",
            "\u001b[0;31mTypeError\u001b[0m                                 Traceback (most recent call last)",
            "\u001b[0;32m/tmp/ipython-input-37-2908973391.py\u001b[0m in \u001b[0;36m<cell line: 0>\u001b[0;34m()\u001b[0m\n\u001b[0;32m----> 1\u001b[0;31m \u001b[0mprint_2lines_default\u001b[0m\u001b[0;34m(\u001b[0m\u001b[0;34m'ธันยาการต์'\u001b[0m\u001b[0;34m,\u001b[0m\u001b[0;34m'พวงมาลัย'\u001b[0m\u001b[0;34m)\u001b[0m\u001b[0;34m\u001b[0m\u001b[0;34m\u001b[0m\u001b[0m\n\u001b[0m",
            "\u001b[0;31mTypeError\u001b[0m: print_2lines_default() missing 1 required positional argument: 'ID'"
          ]
        }
      ]
    },
    {
      "cell_type": "markdown",
      "source": [
        "# Quiz3\n",
        "เขียน function ของ hw 2 ที่รับ input 1 ตัว ตาม format hh1:mm1:ss1 - hh2:mm2:ss2 และคำนวณหา ช่วงเวลาเป็นวินาที ที่ห่างกันระหว่า time1 และ time2 โดยยังไม่ต้องสนใจว่า time2 สามารถข้ามไปอีกวันได้"
      ],
      "metadata": {
        "id": "Alh7JMwDa1k1"
      }
    },
    {
      "cell_type": "markdown",
      "source": [
        "\n",
        "12:30:15, Wednesday - 13:41:07 Thursday\n",
        "\n",
        "12:53:15, Monday - 00:59:25 Tuesday\n",
        "\n",
        "16:06:09, Sunday - 11:11:11, Tuesday"
      ],
      "metadata": {
        "id": "VsYzowzkbeI1"
      }
    },
    {
      "cell_type": "code",
      "source": [
        "# prompt: The time difference is: 4252 seconds\n",
        "# The time difference is: -42830 seconds\n",
        "# The time difference is: -17698 seconds\n",
        "# ต้องการให้วินาทีไม่ติดลบ\n",
        "\n",
        "def calculate_time_difference(time_range):\n",
        "    \"\"\"\n",
        "    Calculates the time difference in seconds between two times in hh:mm:ss format.\n",
        "\n",
        "    Args:\n",
        "        time_range: A string in the format \"hh1:mm1:ss1 - hh2:mm2:ss2\".\n",
        "\n",
        "    Returns:\n",
        "        The time difference in seconds, always non-negative.\n",
        "    \"\"\"\n",
        "    time1_str, time2_str = time_range.split(' - ')\n",
        "\n",
        "    def time_to_seconds(time_str):\n",
        "        h, m, s = map(int, time_str.split(':'))\n",
        "        return h * 3600 + m * 60 + s\n",
        "\n",
        "    time1_seconds = time_to_seconds(time1_str)\n",
        "    time2_seconds = time_to_seconds(time2_str)\n",
        "\n",
        "    # If time2 is earlier in the day than time1, assume it's on the next day\n",
        "    if time2_seconds < time1_seconds:\n",
        "        time2_seconds += 24 * 3600\n",
        "\n",
        "    return time2_seconds - time1_seconds\n",
        "\n",
        "# Example usage:\n",
        "input_time = \"12:30:15 - 13:41:07\"\n",
        "difference_in_seconds = calculate_time_difference(input_time)\n",
        "print(f\"The time difference is: {difference_in_seconds} seconds\")\n",
        "\n",
        "input_time_2 = \"12:53:15 - 00:59:25\"\n",
        "difference_in_seconds_2 = calculate_time_difference(input_time_2)\n",
        "print(f\"The time difference is: {difference_in_seconds_2} seconds\")\n",
        "\n",
        "input_time_3 = \"16:06:09 - 11:11:11\"\n",
        "difference_in_seconds_3 = calculate_time_difference(input_time_3)\n",
        "print(f\"The time difference is: {difference_in_seconds_3} seconds\")\n"
      ],
      "metadata": {
        "colab": {
          "base_uri": "https://localhost:8080/"
        },
        "id": "W_ju1P7xdgHF",
        "outputId": "4eda8e94-4137-48ee-d92b-572affb26103"
      },
      "execution_count": null,
      "outputs": [
        {
          "output_type": "stream",
          "name": "stdout",
          "text": [
            "The time difference is: 4252 seconds\n",
            "The time difference is: 43570 seconds\n",
            "The time difference is: 68702 seconds\n"
          ]
        }
      ]
    },
    {
      "cell_type": "code",
      "source": [
        "# prompt: เขียนฟังก์ชั่น โดยมีการใช้ค่า default ของ input โดยถ้าวันที่กรอกเป็นวันเดียวกันให้ไม่ต้องคำนวณค่าเลยหรือกรอกเเค่ตัวเดียว โดยใช้วันเวลานี้\n",
        "# 12:30:15, Wednesday - 13:41:07 Thursday\n",
        "# 12:53:15, Monday - 00:59:25 Tuesday\n",
        "# 16:06:09, Sunday - 11:11:11, Tuesday\n",
        "\n",
        "from datetime import datetime, timedelta\n",
        "\n",
        "def calculate_time_difference_with_date(time_input=None):\n",
        "    \"\"\"\n",
        "    Calculates the time difference in seconds between two datetime strings,\n",
        "    considering day differences.\n",
        "\n",
        "    Args:\n",
        "        time_input: A string in the format \"hh1:mm1:ss1, Day1 - hh2:mm2:ss2, Day2\".\n",
        "                    If None, returns 0. If the same day is provided twice,\n",
        "                    calculates the difference for that day.\n",
        "\n",
        "    Returns:\n",
        "        The time difference in seconds, always non-negative. Returns 0 if\n",
        "        no input is provided.\n",
        "    \"\"\"\n",
        "    if time_input is None:\n",
        "        return 0\n",
        "\n",
        "    # Helper function to map day names to a numerical representation for comparison\n",
        "    def day_to_num(day_name):\n",
        "        days = [\"Monday\", \"Tuesday\", \"Wednesday\", \"Thursday\", \"Friday\", \"Saturday\", \"Sunday\"]\n",
        "        return days.index(day_name.strip())\n",
        "\n",
        "    parts = time_input.split(' - ')\n",
        "    if len(parts) == 1: # Handle case where only one time is given (same day)\n",
        "        time_str, day_str = parts[0].split(',')\n",
        "        time_str = time_str.strip()\n",
        "        day_str = day_str.strip()\n",
        "        # Assume the second time is the same as the first if only one is given\n",
        "        time1_str = time_str\n",
        "        time2_str = time_str\n",
        "        day1_str = day_str\n",
        "        day2_str = day_str\n",
        "    elif len(parts) == 2: # Handle case with two distinct times\n",
        "        time1_part, time2_part = parts\n",
        "        time1_str, day1_str = time1_part.split(',')\n",
        "        time2_str, day2_str = time2_part.split(',')\n",
        "        time1_str = time1_str.strip()\n",
        "        day1_str = day1_str.strip()\n",
        "        time2_str = time2_str.strip()\n",
        "        day2_str = day2_str.strip()\n",
        "    else:\n",
        "        return 0 # Invalid input format\n",
        "\n",
        "    # Combine time and day for parsing (using a dummy date for parsing convenience)\n",
        "    date_format = \"%H:%M:%S %A\"\n",
        "    dummy_date = \"2023-01-01\" # Use a dummy date\n",
        "\n",
        "    try:\n",
        "        # Parse the datetime objects\n",
        "        datetime1 = datetime.strptime(f\"{time1_str} {day1_str}\", date_format)\n",
        "        datetime2 = datetime.strptime(f\"{time2_str} {day2_str}\", date_format)\n",
        "\n",
        "        # Adjust datetime2 if it's on a later day\n",
        "        day1_num = day_to_num(day1_str)\n",
        "        day2_num = day_to_num(day2_str)\n",
        "\n",
        "        if day2_num < day1_num:\n",
        "            datetime2 += timedelta(days=7 - (day1_num - day2_num))\n",
        "        elif day2_num > day1_num:\n",
        "             datetime2 += timedelta(days=day2_num - day1_num)\n",
        "        elif datetime2 < datetime1: # Same day, but time2 is earlier, means next day\n",
        "            datetime2 += timedelta(days=1)\n",
        "\n",
        "\n",
        "        # Calculate the difference\n",
        "        time_difference = datetime2 - datetime1\n",
        "        return int(time_difference.total_seconds())\n",
        "\n",
        "    except ValueError:\n",
        "        print(\"Invalid time or day format.\")\n",
        "        return 0\n",
        "\n",
        "# Example usage:\n",
        "print(calculate_time_difference_with_date(\"12:30:15, Wednesday - 13:41:07, Thursday\"))\n",
        "print(calculate_time_difference_with_date(\"12:53:15, Monday - 00:59:25, Tuesday\"))\n",
        "print(calculate_time_difference_with_date(\"16:06:09, Sunday - 11:11:11, Tuesday\"))\n",
        "print(calculate_time_difference_with_date(\"12:00:00, Monday\")) # Example for same day\n",
        "print(calculate_time_difference_with_date()) # Example with default None\n",
        "print(calculate_time_difference_with_date(\"10:00:00, Monday - 09:00:00, Monday\")) # Example same day, time before\n"
      ],
      "metadata": {
        "colab": {
          "base_uri": "https://localhost:8080/"
        },
        "id": "0g_mZ9Plf9C1",
        "outputId": "9b43f2b9-8d54-4152-86e8-bbe956286b4e"
      },
      "execution_count": null,
      "outputs": [
        {
          "output_type": "stream",
          "name": "stdout",
          "text": [
            "90652\n",
            "43570\n",
            "155102\n",
            "0\n",
            "0\n",
            "82800\n"
          ]
        }
      ]
    },
    {
      "cell_type": "code",
      "source": [
        "#ตรวจสอบให้หน่อยว่ามีdefault ของ input โดยถ้าวันที่กรอกเป็นวันเดียวกันให้ไม่ต้องคำนวณค่าเลยหรือกรอกเเค่ตัวเดียว โดยใช้วันเวลานี้ พร้อมอธิบาย\n",
        "from datetime import datetime, timedelta\n",
        "\n",
        "def calculate_time_difference_with_date(time_input=None):\n",
        "    \"\"\"\n",
        "    Calculates the time difference in seconds between two datetime strings,\n",
        "    considering day differences.\n",
        "\n",
        "    Args:\n",
        "        time_input: A string in the format \"hh1:mm1:ss1, Day1 - hh2:mm2:ss2, Day2\".\n",
        "                    If None or only one time is given, returns 0.\n",
        "\n",
        "    Returns:\n",
        "        The time difference in seconds, always non-negative. Returns 0 if\n",
        "        no input or invalid input is provided, or if the times are equal on the same day.\n",
        "    \"\"\"\n",
        "    if time_input is None:\n",
        "        return 0\n",
        "\n",
        "    def day_to_num(day_name):\n",
        "        days = [\"Monday\", \"Tuesday\", \"Wednesday\", \"Thursday\", \"Friday\", \"Saturday\", \"Sunday\"]\n",
        "        try:\n",
        "            return days.index(day_name.strip())\n",
        "        except ValueError:\n",
        "            return -1\n",
        "\n",
        "    parts = time_input.split(' - ')\n",
        "    if len(parts) != 2:\n",
        "        return 0\n",
        "\n",
        "    try:\n",
        "        time1_part, time2_part = parts\n",
        "        time1_str, day1_str = time1_part.split(',')\n",
        "        time2_str, day2_str = time2_part.split(',')\n",
        "\n",
        "        time1_str = time1_str.strip()\n",
        "        day1_str = day1_str.strip()\n",
        "        time2_str = time2_str.strip()\n",
        "        day2_str = day2_str.strip()\n",
        "\n",
        "        # เงื่อนไข: ถ้าเวลาและวันเหมือนกัน → ไม่ต้องคำนวณ\n",
        "        if day1_str == day2_str and time1_str == time2_str:\n",
        "            return 0\n",
        "\n",
        "    except ValueError:\n",
        "        return 0\n",
        "\n",
        "    full_date_format = \"%Y-%m-%d %H:%M:%S\"\n",
        "    base_date = datetime(2000, 1, 1)  # Monday\n",
        "\n",
        "    day1_num = day_to_num(day1_str)\n",
        "    day2_num = day_to_num(day2_str)\n",
        "\n",
        "    if day1_num == -1 or day2_num == -1:\n",
        "        return 0\n",
        "\n",
        "    try:\n",
        "        date1 = base_date + timedelta(days=day1_num)\n",
        "        date2 = base_date + timedelta(days=day2_num)\n",
        "\n",
        "        datetime1 = datetime.strptime(f\"{date1.strftime('%Y-%m-%d')} {time1_str}\", full_date_format)\n",
        "        datetime2 = datetime.strptime(f\"{date2.strftime('%Y-%m-%d')} {time2_str}\", full_date_format)\n",
        "\n",
        "        if datetime2 < datetime1:\n",
        "            datetime2 += timedelta(weeks=1)\n",
        "\n",
        "        time_difference = datetime2 - datetime1\n",
        "        return int(time_difference.total_seconds())\n",
        "\n",
        "    except Exception:\n",
        "        return 0\n"
      ],
      "metadata": {
        "id": "5R8e9ioYiKaM"
      },
      "execution_count": null,
      "outputs": []
    },
    {
      "cell_type": "code",
      "source": [
        "print(f\"Case 1: {calculate_time_difference_with_date('12:30:15, Wednesday - 13:41:07, Thursday')} seconds\")\n",
        "print(f\"Case 2: {calculate_time_difference_with_date('12:53:15, Monday - 00:59:25, Tuesday')} seconds\")\n",
        "print(f\"Case 3: {calculate_time_difference_with_date('16:06:09, Sunday - 11:11:11, Tuesday')} seconds\")\n",
        "print(f\"Same datetime: {calculate_time_difference_with_date('12:00:00, Monday - 12:00:00, Monday')} seconds\")\n",
        "print(f\"Only one datetime: {calculate_time_difference_with_date('12:00:00, Monday')} seconds\")\n"
      ],
      "metadata": {
        "colab": {
          "base_uri": "https://localhost:8080/"
        },
        "id": "AgvBtRvgiO0G",
        "outputId": "f20eccce-e8f2-435f-9405-099a899b022b"
      },
      "execution_count": null,
      "outputs": [
        {
          "output_type": "stream",
          "name": "stdout",
          "text": [
            "Case 1: 90652 seconds\n",
            "Case 2: 43570 seconds\n",
            "Case 3: 155102 seconds\n",
            "Same datetime: 0 seconds\n",
            "Only one datetime: 0 seconds\n"
          ]
        }
      ]
    },
    {
      "cell_type": "markdown",
      "source": [
        "# Quiz3.5\n",
        "\n",
        "รับ input 2 ตัว โดยตั้งค่า default time1 เป็น 00:00:00"
      ],
      "metadata": {
        "id": "GMMe5F1zgNV5"
      }
    },
    {
      "cell_type": "code",
      "source": [],
      "metadata": {
        "id": "nFISh8fvlr99"
      },
      "execution_count": null,
      "outputs": []
    },
    {
      "cell_type": "markdown",
      "source": [
        "## HW2\n",
        "\n",
        "วนลูป หา ช่วงเวลาเป็นวินาที ที่ห่างกันระหว่า time1 และ time2 ต่อไปนี้\n",
        "\n",
        "\n",
        "1. 18:09:10 - 18:25:10\n",
        "2. 13:38:39 - 23:54:39\n",
        "3. 16:49:58 - 18:05:58\n",
        "4. 21:49:10 - 22:24:10\n",
        "5. 08:52:21 - 09:25:21\n",
        "6. 06:56:26 - 07:49:26\n",
        "7. 12:08:05 - 12:43:05\n",
        "8. 01:48:38 - 07:18:38\n",
        "9. 08:51:21 - 10:17:21\n",
        "10. 17:05:17 - 18:09:17"
      ],
      "metadata": {
        "id": "Y60TMz5ijb_S"
      }
    },
    {
      "cell_type": "markdown",
      "source": [
        "ตัวอย่าง quiz 6"
      ],
      "metadata": {
        "id": "sp6O5UoPQWL_"
      }
    },
    {
      "cell_type": "code",
      "source": [
        "# prompt: ช่วยสร้าง function คำนวณ จำนวนวินาที ที่เเตกต่างระหว่าง input hh:mm:ss, day of the week 2 คำ\n",
        "\n",
        "def calculate_time_difference_with_date(time_input=None):\n",
        "    \"\"\"\n",
        "    Calculates the time difference in seconds between two datetime strings,\n",
        "    considering day differences.\n",
        "\n",
        "    Args:\n",
        "        time_input: A string in the format \"hh1:mm1:ss1, Day1 - hh2:mm2:ss2, Day2\".\n",
        "                    If None or only one time is given, returns 0.\n",
        "\n",
        "    Returns:\n",
        "        The time difference in seconds, always non-negative. Returns 0 if\n",
        "        no input or invalid input is provided, or if the times are equal on the same day.\n",
        "    \"\"\"\n",
        "    if time_input is None:\n",
        "        return 0\n",
        "\n",
        "    def day_to_num(day_name):\n",
        "        days = [\"Monday\", \"Tuesday\", \"Wednesday\", \"Thursday\", \"Friday\", \"Saturday\", \"Sunday\"]\n",
        "        try:\n",
        "            return days.index(day_name.strip())\n",
        "        except ValueError:\n",
        "            return -1\n",
        "\n",
        "    parts = time_input.split(' - ')\n",
        "    # ตรวจสอบว่ามี 2 ส่วน (time1 และ time2) หากไม่ใช่ ให้คืนค่า 0 ทันที\n",
        "    if len(parts) != 2:\n",
        "        return 0\n",
        "\n",
        "    try:\n",
        "        time1_part, time2_part = parts\n",
        "        # แยกเวลาและวันออกจากกันสำหรับส่วนที่ 1\n",
        "        time1_str, day1_str = time1_part.split(',')\n",
        "        # แยกเวลาและวันออกจากกันสำหรับส่วนที่ 2\n",
        "        time2_str, day2_str = time2_part.split(',')\n",
        "\n",
        "        # ลบช่องว่างนำหน้าและต่อท้ายออกจากสตริง\n",
        "        time1_str = time1_str.strip()\n",
        "        day1_str = day1_str.strip()\n",
        "        time2_str = time2_str.strip()\n",
        "        day2_str = day2_str.strip()\n",
        "\n",
        "        # เงื่อนไข: ถ้าเวลาและวันเหมือนกัน → ไม่ต้องคำนวณ ให้คืนค่า 0\n",
        "        if day1_str == day2_str and time1_str == time2_str:\n",
        "            return 0\n",
        "\n",
        "    except ValueError:\n",
        "        # หากเกิดข้อผิดพลาดในการแยกสตริง แสดงว่ารูปแบบ input ไม่ถูกต้อง ให้คืนค่า 0\n",
        "        return 0\n",
        "\n",
        "    full_date_format = \"%Y-%m-%d %H:%M:%S\"\n",
        "    base_date = datetime(2000, 1, 1)  # กำหนดวันฐานเป็นวันจันทร์\n",
        "\n",
        "    # แปลงชื่อวันเป็นตัวเลข (0 สำหรับ Monday, 1 สำหรับ Tuesday, ...)\n",
        "    day1_num = day_to_num(day1_str)\n",
        "    day2_num = day_to_num(day2_str)\n",
        "\n",
        "    # หากชื่อวันไม่ถูกต้อง ให้คืนค่า 0\n",
        "    if day1_num == -1 or day2_num == -1:\n",
        "        return 0\n",
        "\n",
        "    try:\n",
        "        # สร้างอ็อบเจกต์ date โดยใช้ base_date และเพิ่มจำนวนวันตาม day_num\n",
        "        date1 = base_date + timedelta(days=day1_num)\n",
        "        date2 = base_date + timedelta(days=day2_num)\n",
        "\n",
        "        # สร้างอ็อบเจกต์ datetime โดยรวม date และ time string\n",
        "        datetime1 = datetime.strptime(f\"{date1.strftime('%Y-%m-%d')} {time1_str}\", full_date_format)\n",
        "        datetime2 = datetime.strptime(f\"{date2.strftime('%Y-%m-%d')} {time2_str}\", full_date_format)\n",
        "\n",
        "        # หาก datetime2 มาก่อน datetime1 ให้ถือว่า datetime2 อยู่ในสัปดาห์ถัดไป และเพิ่มเวลาไป 1 สัปดาห์\n",
        "        if datetime2 < datetime1:\n",
        "            datetime2 += timedelta(weeks=1)\n",
        "\n",
        "        # คำนวณความแตกต่างของเวลาและแปลงเป็นวินาทีทั้งหมด\n",
        "        time_difference = datetime2 - datetime1\n",
        "        return int(time_difference.total_seconds())\n",
        "\n",
        "    except Exception:\n",
        "        # หากเกิดข้อผิดพลาดอื่นๆ ในระหว่างการประมวลผล ให้คืนค่า 0\n",
        "        return 0\n",
        "\n",
        "# ตัวอย่างการใช้งานตามที่โจทย์ต้องการ\n",
        "print(f\"Case 1: {'12:30:15, Wednesday - 13:41:07, Thursday'} -> {calculate_time_difference_with_date('12:30:15, Wednesday - 13:41:07, Thursday')} seconds\")\n",
        "print(f\"Case 2: {'12:53:15, Monday - 00:59:25, Tuesday'} -> {calculate_time_difference_with_date('12:53:15, Monday - 00:59:25, Tuesday')} seconds\")\n",
        "print(f\"Case 3: {'16:06:09, Sunday - 11:11:11, Tuesday'} -> {calculate_time_difference_with_date('16:06:09, Sunday - 11:11:11, Tuesday')} seconds\")\n",
        "print(f\"Same datetime: {'12:00:00, Monday - 12:00:00, Monday'} -> {calculate_time_difference_with_date('12:00:00, Monday - 12:00:00, Monday')} seconds\")\n",
        "print(f\"Only one datetime: {'12:00:00, Monday'} -> {calculate_time_difference_with_date('12:00:00, Monday')} seconds\") # ตัวอย่าง input ที่ไม่ถูกต้องตาม format ที่ต้องการ\n",
        "print(f\"Invalid format: {'invalid input'} -> {calculate_time_difference_with_date('invalid input')} seconds\") # ตัวอย่าง input ที่ไม่ถูกต้อง\n",
        "\n"
      ],
      "metadata": {
        "id": "OuSTwQZEQZ3Y"
      },
      "execution_count": null,
      "outputs": []
    },
    {
      "cell_type": "markdown",
      "source": [
        "#HW3 เพิ่ม ลูบ เข้าไปใน quiz 6 โดยวนลูป คำนวณ วินาทีในโจทย์ต่อไปนี้\n",
        "[\n",
        "    (\"10:00:00\", \"Monday\", \"11:30:00\", 5400),  # Same day, later time\n",
        "    (\"11:30:00\", \"Monday\", \"10:00:00\", \"Monday\", 5400),  # Same day, earlier time\n",
        "    (\"23:00:00\", \"Sunday\", \"01:00:00\", , 7200),  # Cross midnight\n",
        "    (\"01:00:00\", \"Monday\", \"23:00:00\", \"Sunday\", 7200),  # Cross midnight (reverse)\n",
        "    (\"10:00:00\", \"Tuesday\", \"11:30:00\", \"Thursday\", 178200), # Multiple days difference\n",
        "    (\"11:30:00\", \"Thursday\", \"10:00:00\", \"Tuesday\", 178200), # Multiple days difference (reverse)\n",
        "    (\"12:00:00\", \"Monday\", \"12:00:00\", \"Monday\", 0),      # Same time, same day\n",
        "    (\"12:00:00\", \"Monday\", \"12:00:00\", \"Tuesday\", 24*3600), # Same time, next day\n",
        "    (\"00:00:00\", \"Monday\", \"23:59:59\", , 24*3600 - 1), # Almost 24 hours later\n",
        "    (\"23:59:59\", \"Sunday\", \"00:00:00\", \"Monday\", 1),       # One second difference across midnight"
      ],
      "metadata": {
        "id": "P5dv-l2NS4Jw"
      }
    },
    {
      "cell_type": "markdown",
      "metadata": {
        "id": "UB5fTAr3bPqg"
      },
      "source": [
        "# LOOP การวนซ้ำ"
      ]
    },
    {
      "cell_type": "markdown",
      "metadata": {
        "id": "gpIwjDjg0gfJ"
      },
      "source": [
        "for เป็นคำที่ใช้บอก python ว่าเรากำลังเขียน loop\n",
        "โดย for จะวนดึงสมาชิกจาก ```listA``` มาทำ process ```do_something```"
      ]
    },
    {
      "cell_type": "markdown",
      "metadata": {
        "id": "6XS2wO4_bPqg"
      },
      "source": [
        "```python\n",
        "    for each_member in listA :\n",
        "        do_something\n",
        "```"
      ]
    },
    {
      "cell_type": "markdown",
      "metadata": {
        "id": "d7kQ2AEcbPqg"
      },
      "source": [
        "#### คำสั่ง for เป็นคำสั่งวนซ้ำที่ใช้ควบคุมการทำงานซ้ำๆ ในจำนวนรอบที่แน่นอน"
      ]
    },
    {
      "cell_type": "code",
      "metadata": {
        "colab": {
          "base_uri": "https://localhost:8080/"
        },
        "id": "NcT-s7TEbPqg",
        "outputId": "326ccf51-0f1d-4bdc-de49-9ed7171972e6"
      },
      "source": [
        "for i in [1,2,3] :\n",
        "    o = i**2\n",
        "    print (f'this member = {i} after process = {o}')"
      ],
      "execution_count": null,
      "outputs": [
        {
          "output_type": "stream",
          "name": "stdout",
          "text": [
            "this member = 1 after process = 1\n",
            "this member = 2 after process = 4\n",
            "this member = 3 after process = 9\n"
          ]
        }
      ]
    },
    {
      "cell_type": "markdown",
      "metadata": {
        "id": "YbnFaiU2bPqg"
      },
      "source": [
        "#### ตัวอย่างการใช้คำสั่ง for ในการวนซ้ำค่าของ i เมื่อ i คือ 'Thanapong' และคำสั่ง print(f'{i} -> /') เพื่อกำหนดให้ผลลัพธ์แสดงสัญลักษณ์ -> /  จากนั้นเพิ่มคำสั่ง print(' ') อีกครั้งเพื่อให้ผลลัพธ์มีการเว้นวรรค¶"
      ]
    },
    {
      "cell_type": "code",
      "metadata": {
        "id": "kstoI_CEbPqh",
        "outputId": "1f66fa4a-09f2-44e8-89e0-299a9388f0c1",
        "colab": {
          "base_uri": "https://localhost:8080/"
        }
      },
      "source": [
        "for i in 'Thanapong':\n",
        "    print(f'{i} -> / ' )"
      ],
      "execution_count": null,
      "outputs": [
        {
          "output_type": "stream",
          "name": "stdout",
          "text": [
            "T -> / \n",
            "h -> / \n",
            "a -> / \n",
            "n -> / \n",
            "a -> / \n",
            "p -> / \n",
            "o -> / \n",
            "n -> / \n",
            "g -> / \n"
          ]
        }
      ]
    },
    {
      "cell_type": "code",
      "metadata": {
        "id": "mQmh0Ip-V8qR",
        "outputId": "0e01aa3e-f288-4865-d65d-2f2711066413",
        "colab": {
          "base_uri": "https://localhost:8080/"
        }
      },
      "source": [
        "for i in 'Thanapong':\n",
        "    print(f'{i} -> / ' ,end = '') #สั่งให้ print แบบ ไม่เว้นบรรทัด"
      ],
      "execution_count": null,
      "outputs": [
        {
          "output_type": "stream",
          "name": "stdout",
          "text": [
            "T -> / h -> / a -> / n -> / a -> / p -> / o -> / n -> / g -> / "
          ]
        }
      ]
    },
    {
      "cell_type": "markdown",
      "metadata": {
        "id": "3_I0IHOqXMIr"
      },
      "source": [
        "## สร้าง list ตัวเลขแบบอัตโนมัติ  range()"
      ]
    },
    {
      "cell_type": "code",
      "metadata": {
        "id": "ensAuLXBW-0P",
        "outputId": "a134b9ff-e00c-4625-99cb-e84b9c10a018",
        "colab": {
          "base_uri": "https://localhost:8080/"
        }
      },
      "source": [
        "range5_output = range(100)\n",
        "print(list(range5_output))"
      ],
      "execution_count": 1,
      "outputs": [
        {
          "output_type": "stream",
          "name": "stdout",
          "text": [
            "[0, 1, 2, 3, 4, 5, 6, 7, 8, 9, 10, 11, 12, 13, 14, 15, 16, 17, 18, 19, 20, 21, 22, 23, 24, 25, 26, 27, 28, 29, 30, 31, 32, 33, 34, 35, 36, 37, 38, 39, 40, 41, 42, 43, 44, 45, 46, 47, 48, 49, 50, 51, 52, 53, 54, 55, 56, 57, 58, 59, 60, 61, 62, 63, 64, 65, 66, 67, 68, 69, 70, 71, 72, 73, 74, 75, 76, 77, 78, 79, 80, 81, 82, 83, 84, 85, 86, 87, 88, 89, 90, 91, 92, 93, 94, 95, 96, 97, 98, 99]\n"
          ]
        }
      ]
    },
    {
      "cell_type": "code",
      "metadata": {
        "id": "r8JXggPKXrEx",
        "outputId": "bcb4fe84-093e-4623-d62c-2c227d1cceec",
        "colab": {
          "base_uri": "https://localhost:8080/"
        }
      },
      "source": [
        "for i in range(100):\n",
        "    print('งง',end=' ')"
      ],
      "execution_count": null,
      "outputs": [
        {
          "output_type": "stream",
          "name": "stdout",
          "text": [
            "งง งง งง งง งง งง งง งง งง งง งง งง งง งง งง งง งง งง งง งง งง งง งง งง งง งง งง งง งง งง งง งง งง งง งง งง งง งง งง งง งง งง งง งง งง งง งง งง งง งง งง งง งง งง งง งง งง งง งง งง งง งง งง งง งง งง งง งง งง งง งง งง งง งง งง งง งง งง งง งง งง งง งง งง งง งง งง งง งง งง งง งง งง งง งง งง งง งง งง งง "
          ]
        }
      ]
    },
    {
      "cell_type": "code",
      "metadata": {
        "id": "RLvhNqw8YpKa",
        "outputId": "19ae69a5-474b-4d30-f4ce-bdeddf084c71",
        "colab": {
          "base_uri": "https://localhost:8080/"
        }
      },
      "source": [
        "list(range(1,11)) #เริ่มต้นเป็นวงทึบ จบเป็นวงกลมโปร่ง เหมือน list slicing"
      ],
      "execution_count": null,
      "outputs": [
        {
          "output_type": "execute_result",
          "data": {
            "text/plain": [
              "[1, 2, 3, 4, 5, 6, 7, 8, 9, 10]"
            ]
          },
          "metadata": {},
          "execution_count": 27
        }
      ]
    },
    {
      "cell_type": "code",
      "metadata": {
        "id": "MqXQ9NLGcW-r",
        "outputId": "ab839a9f-525a-40d4-b7d1-4b8f0d4de3a7",
        "colab": {
          "base_uri": "https://localhost:8080/"
        }
      },
      "source": [
        "list(range(-3,20,4))"
      ],
      "execution_count": null,
      "outputs": [
        {
          "output_type": "execute_result",
          "data": {
            "text/plain": [
              "[-3, 1, 5, 9, 13, 17]"
            ]
          },
          "metadata": {},
          "execution_count": 28
        }
      ]
    },
    {
      "cell_type": "markdown",
      "metadata": {
        "id": "vPcR4tJebPqi"
      },
      "source": [
        "### loop in loop\n",
        "#### สามารถใช้ for loop ซ้อนกันสองรอบได้¶"
      ]
    },
    {
      "cell_type": "code",
      "metadata": {
        "id": "TKRcpd5DbPqi",
        "outputId": "b18bd9af-fe48-4979-ba91-f8faf2a8787a",
        "colab": {
          "base_uri": "https://localhost:8080/"
        }
      },
      "source": [
        "for name1 in  range(2,5): #(2, 3, 4)\n",
        "    print(f'now name1 = {name1}')\n",
        "    for name2 in  range(1,13):\n",
        "        print('  ', name1,' x ',name2,' = ',name1*name2)\n",
        "    print('the inner loop is end')"
      ],
      "execution_count": null,
      "outputs": [
        {
          "output_type": "stream",
          "name": "stdout",
          "text": [
            "now name1 = 2\n",
            "   2  x  1  =  2\n",
            "   2  x  2  =  4\n",
            "   2  x  3  =  6\n",
            "   2  x  4  =  8\n",
            "   2  x  5  =  10\n",
            "   2  x  6  =  12\n",
            "   2  x  7  =  14\n",
            "   2  x  8  =  16\n",
            "   2  x  9  =  18\n",
            "   2  x  10  =  20\n",
            "   2  x  11  =  22\n",
            "   2  x  12  =  24\n",
            "the inner loop is end\n",
            "now name1 = 3\n",
            "   3  x  1  =  3\n",
            "   3  x  2  =  6\n",
            "   3  x  3  =  9\n",
            "   3  x  4  =  12\n",
            "   3  x  5  =  15\n",
            "   3  x  6  =  18\n",
            "   3  x  7  =  21\n",
            "   3  x  8  =  24\n",
            "   3  x  9  =  27\n",
            "   3  x  10  =  30\n",
            "   3  x  11  =  33\n",
            "   3  x  12  =  36\n",
            "the inner loop is end\n",
            "now name1 = 4\n",
            "   4  x  1  =  4\n",
            "   4  x  2  =  8\n",
            "   4  x  3  =  12\n",
            "   4  x  4  =  16\n",
            "   4  x  5  =  20\n",
            "   4  x  6  =  24\n",
            "   4  x  7  =  28\n",
            "   4  x  8  =  32\n",
            "   4  x  9  =  36\n",
            "   4  x  10  =  40\n",
            "   4  x  11  =  44\n",
            "   4  x  12  =  48\n",
            "the inner loop is end\n"
          ]
        }
      ]
    },
    {
      "cell_type": "markdown",
      "source": [
        "# quiz 7 วนลูบ แสดงค่า ตัวเลขออกมาเป็นสามเหลี่ยม ตามตัวอย่างนี้\n",
        "ex :\n",
        "1\n",
        "\n",
        "2 4\n",
        "\n",
        "3 6 9\n",
        "\n",
        "4 8 12 16\n",
        "\n",
        "5 10 15 20 25"
      ],
      "metadata": {
        "id": "e9TAT_aKAqOP"
      }
    },
    {
      "cell_type": "code",
      "source": [
        "# prompt: แสดงค่า ตัวเลขออกมาเป็นสามเหลี่ยม ตามตัวอย่างนี้\n",
        "# ex :\n",
        "# 1\n",
        "# 2 4\n",
        "# 3 6 9\n",
        "# 4 8 12 16\n",
        "# 5 10 15 20 25\n",
        "\n",
        "for i in range(1, 6):\n",
        "  for j in range(1, i + 1):\n",
        "    print(i * j, end=' ')\n",
        "  print()"
      ],
      "metadata": {
        "colab": {
          "base_uri": "https://localhost:8080/"
        },
        "id": "Q7bRU5mpDUEH",
        "outputId": "5d3d4417-d69f-4b94-ecf8-493cc08ab741"
      },
      "execution_count": 7,
      "outputs": [
        {
          "output_type": "stream",
          "name": "stdout",
          "text": [
            "1 \n",
            "2 4 \n",
            "3 6 9 \n",
            "4 8 12 16 \n",
            "5 10 15 20 25 \n"
          ]
        }
      ]
    },
    {
      "cell_type": "code",
      "source": [
        "index = 0\n",
        "for i in 'thanapong':\n",
        "    print(f'สมาชิกคือ {i} เป็นลำดับเลขที่ {index} ')"
      ],
      "metadata": {
        "colab": {
          "base_uri": "https://localhost:8080/"
        },
        "id": "numprvwWApyn",
        "outputId": "9479d7c0-3041-472a-9cc3-4eb43d1eb4a5"
      },
      "execution_count": 5,
      "outputs": [
        {
          "output_type": "stream",
          "name": "stdout",
          "text": [
            "สมาชิกคือ t เป็นลำดับเลขที่ 0 \n",
            "สมาชิกคือ h เป็นลำดับเลขที่ 0 \n",
            "สมาชิกคือ a เป็นลำดับเลขที่ 0 \n",
            "สมาชิกคือ n เป็นลำดับเลขที่ 0 \n",
            "สมาชิกคือ a เป็นลำดับเลขที่ 0 \n",
            "สมาชิกคือ p เป็นลำดับเลขที่ 0 \n",
            "สมาชิกคือ o เป็นลำดับเลขที่ 0 \n",
            "สมาชิกคือ n เป็นลำดับเลขที่ 0 \n",
            "สมาชิกคือ g เป็นลำดับเลขที่ 0 \n"
          ]
        }
      ]
    },
    {
      "cell_type": "code",
      "source": [
        "for index, i in enumerate('thanapong'):\n",
        "    print(f'สมาชิกคือ {i} เป็นลำดับเลขที่ {index} ')"
      ],
      "metadata": {
        "colab": {
          "base_uri": "https://localhost:8080/"
        },
        "id": "1WHhUUgaBhHY",
        "outputId": "591742e4-7f2c-42df-9005-fcc2f1e3d29e"
      },
      "execution_count": 6,
      "outputs": [
        {
          "output_type": "stream",
          "name": "stdout",
          "text": [
            "สมาชิกคือ t เป็นลำดับเลขที่ 0 \n",
            "สมาชิกคือ h เป็นลำดับเลขที่ 1 \n",
            "สมาชิกคือ a เป็นลำดับเลขที่ 2 \n",
            "สมาชิกคือ n เป็นลำดับเลขที่ 3 \n",
            "สมาชิกคือ a เป็นลำดับเลขที่ 4 \n",
            "สมาชิกคือ p เป็นลำดับเลขที่ 5 \n",
            "สมาชิกคือ o เป็นลำดับเลขที่ 6 \n",
            "สมาชิกคือ n เป็นลำดับเลขที่ 7 \n",
            "สมาชิกคือ g เป็นลำดับเลขที่ 8 \n"
          ]
        }
      ]
    },
    {
      "cell_type": "markdown",
      "source": [],
      "metadata": {
        "id": "BLWXLzI0AplL"
      }
    },
    {
      "cell_type": "markdown",
      "metadata": {
        "id": "7-FAZit8bPqi"
      },
      "source": [
        "### loop in function\n",
        "#### การวนลูปในฟังก์ชั่น¶"
      ]
    },
    {
      "cell_type": "code",
      "metadata": {
        "id": "S0r5yhbDbPqi"
      },
      "source": [
        "def print_feelings(I,friendS,feeling = 'คิดถึง'):\n",
        "    for friend in friendS:\n",
        "        print(f'{I} {feeling} {friend}')"
      ],
      "execution_count": 11,
      "outputs": []
    },
    {
      "cell_type": "code",
      "metadata": {
        "id": "_oVKj4SRfGS6"
      },
      "source": [
        "list_friends = ['แบม','บม','แบมบี้','คุณหนูเบียร์','พ่อใหญ่เฟิร์ส','อ้ายสีหนุ่ม']"
      ],
      "execution_count": 8,
      "outputs": []
    },
    {
      "cell_type": "code",
      "metadata": {
        "id": "RepVZqu6bPqi",
        "outputId": "e0957cb7-4b1c-4d8a-ca5b-d022935aabff",
        "colab": {
          "base_uri": "https://localhost:8080/"
        }
      },
      "source": [
        "print_feelings('นนท์',list_friends)"
      ],
      "execution_count": 12,
      "outputs": [
        {
          "output_type": "stream",
          "name": "stdout",
          "text": [
            "นนท์ คิดถึง แบม\n",
            "นนท์ คิดถึง บม\n",
            "นนท์ คิดถึง แบมบี้\n",
            "นนท์ คิดถึง คุณหนูเบียร์\n",
            "นนท์ คิดถึง พ่อใหญ่เฟิร์ส\n",
            "นนท์ คิดถึง อ้ายสีหนุ่ม\n"
          ]
        }
      ]
    },
    {
      "cell_type": "code",
      "metadata": {
        "id": "P20pDnVaf2vK",
        "outputId": "d859e89a-5e89-4656-dd3f-7a25954e7928",
        "colab": {
          "base_uri": "https://localhost:8080/"
        }
      },
      "source": [
        "print_feelings('เจมส์',list_friends,feeling='รัก')"
      ],
      "execution_count": 15,
      "outputs": [
        {
          "output_type": "stream",
          "name": "stdout",
          "text": [
            "เจมส์ รัก แบม\n",
            "เจมส์ รัก บม\n",
            "เจมส์ รัก แบมบี้\n",
            "เจมส์ รัก คุณหนูเบียร์\n",
            "เจมส์ รัก พ่อใหญ่เฟิร์ส\n",
            "เจมส์ รัก อ้ายสีหนุ่ม\n"
          ]
        }
      ]
    },
    {
      "cell_type": "markdown",
      "source": [
        "จบ 24 มิย 67"
      ],
      "metadata": {
        "id": "GJAB4hnvnAX8"
      }
    },
    {
      "cell_type": "markdown",
      "source": [
        "## Dictionary (Data Structure)\n",
        "\n",
        "โครงสร้างข้อมูลที่จัดเก็บข้อมูลโดยการอ้างอิงโดย text\n",
        "\n",
        "วงเล็บ ```{``` ```}``` Curly Brackets"
      ],
      "metadata": {
        "id": "VreW55vmVRcb"
      }
    },
    {
      "cell_type": "code",
      "source": [
        "Ex_dict_A = {'memberA':[1,2,3],'memberB':8,'memberC':'abc'}"
      ],
      "metadata": {
        "id": "i-oH98ilV1RV"
      },
      "execution_count": null,
      "outputs": []
    },
    {
      "cell_type": "code",
      "source": [
        "Ex_dict_A"
      ],
      "metadata": {
        "colab": {
          "base_uri": "https://localhost:8080/"
        },
        "id": "kIwdnWuqWr58",
        "outputId": "694d94ad-5ac6-47a8-e6d6-01f62d578d9b"
      },
      "execution_count": null,
      "outputs": [
        {
          "output_type": "execute_result",
          "data": {
            "text/plain": [
              "{'memberA': [1, 2, 3], 'memberB': 8, 'memberC': 'abc'}"
            ]
          },
          "metadata": {},
          "execution_count": 2
        }
      ]
    },
    {
      "cell_type": "code",
      "source": [
        "Ex_dict_A['memberA']"
      ],
      "metadata": {
        "colab": {
          "base_uri": "https://localhost:8080/"
        },
        "id": "J4yy6oaXW4he",
        "outputId": "153013bf-f9bd-4cd9-a182-bf13744d02c7"
      },
      "execution_count": null,
      "outputs": [
        {
          "output_type": "execute_result",
          "data": {
            "text/plain": [
              "[1, 2, 3]"
            ]
          },
          "metadata": {},
          "execution_count": 5
        }
      ]
    },
    {
      "cell_type": "code",
      "source": [
        "Ex_dict_A['memberA'][1]"
      ],
      "metadata": {
        "colab": {
          "base_uri": "https://localhost:8080/"
        },
        "id": "cZjtUbdnXZK-",
        "outputId": "0eaa0d49-1a2a-41d6-bb62-7c3252df977f"
      },
      "execution_count": null,
      "outputs": [
        {
          "output_type": "execute_result",
          "data": {
            "text/plain": [
              "2"
            ]
          },
          "metadata": {},
          "execution_count": 6
        }
      ]
    },
    {
      "cell_type": "markdown",
      "metadata": {
        "id": "vwK7RmRJbPqj"
      },
      "source": [
        "### looping in dict\n",
        "#### ทำการวนลูปในค่า dict โดยที่เรากำหนดตัว key และvalueขึ้นมา ได้ดังนี้\n"
      ]
    },
    {
      "cell_type": "code",
      "metadata": {
        "id": "HI0F-4HobPqj",
        "outputId": "f5dff6b6-6102-4445-cc19-4574cf6790b2",
        "colab": {
          "base_uri": "https://localhost:8080/"
        }
      },
      "source": [
        "name_grade = {'พันทิพา' : 'B','ศุภนิตา' : 'C','ปนัดดา' : 'A','ทรงกลด' : 'F'}\n",
        "name_grade"
      ],
      "execution_count": null,
      "outputs": [
        {
          "output_type": "execute_result",
          "data": {
            "text/plain": [
              "{'พันทิพา': 'B', 'ศุภนิตา': 'C', 'ปนัดดา': 'A', 'ทรงกลด': 'F'}"
            ]
          },
          "metadata": {},
          "execution_count": 7
        }
      ]
    },
    {
      "cell_type": "code",
      "metadata": {
        "id": "jWf8aBmpbPqj",
        "outputId": "d19b353a-86f8-4dcc-e1d5-a5a0d233c332",
        "colab": {
          "base_uri": "https://localhost:8080/",
          "height": 56
        }
      },
      "source": [
        "name_grade['ปนัดดา']"
      ],
      "execution_count": null,
      "outputs": [
        {
          "output_type": "execute_result",
          "data": {
            "text/plain": [
              "'A'"
            ],
            "application/vnd.google.colaboratory.intrinsic+json": {
              "type": "string"
            }
          },
          "metadata": {},
          "execution_count": 8
        }
      ]
    },
    {
      "cell_type": "code",
      "source": [
        "name_grade.keys()"
      ],
      "metadata": {
        "colab": {
          "base_uri": "https://localhost:8080/"
        },
        "id": "0tXZc6kgYPgm",
        "outputId": "13096d92-02b7-4de1-9845-3552562916b2"
      },
      "execution_count": null,
      "outputs": [
        {
          "output_type": "execute_result",
          "data": {
            "text/plain": [
              "dict_keys(['พันทิพา', 'ศุภนิตา', 'ปนัดดา', 'ทรงกลด'])"
            ]
          },
          "metadata": {},
          "execution_count": 9
        }
      ]
    },
    {
      "cell_type": "code",
      "source": [
        "name_grade.values()"
      ],
      "metadata": {
        "colab": {
          "base_uri": "https://localhost:8080/"
        },
        "id": "zEqstk33YRxp",
        "outputId": "e01dc8af-865a-4ba3-809c-370371d8409e"
      },
      "execution_count": null,
      "outputs": [
        {
          "output_type": "execute_result",
          "data": {
            "text/plain": [
              "dict_values(['B', 'C', 'A', 'F'])"
            ]
          },
          "metadata": {},
          "execution_count": 10
        }
      ]
    },
    {
      "cell_type": "code",
      "metadata": {
        "scrolled": true,
        "id": "eDqhoebhbPqj",
        "outputId": "e3bed2bc-662c-4001-c6af-548dd9b7f0fc",
        "colab": {
          "base_uri": "https://localhost:8080/"
        }
      },
      "source": [
        "for i in name_grade.keys():\n",
        "    print(i)"
      ],
      "execution_count": null,
      "outputs": [
        {
          "output_type": "stream",
          "name": "stdout",
          "text": [
            "พันทิพา\n",
            "ศุภนิตา\n",
            "ปนัดดา\n",
            "ทรงกลด\n"
          ]
        }
      ]
    },
    {
      "cell_type": "code",
      "metadata": {
        "id": "Imvq4faObPqj",
        "outputId": "4debf4e7-78ed-431a-8b4a-61f4500d39a8",
        "colab": {
          "base_uri": "https://localhost:8080/"
        }
      },
      "source": [
        "for i in name_grade.keys():\n",
        "    print(f'{i} ได้เกรด {name_grade[i]}')"
      ],
      "execution_count": null,
      "outputs": [
        {
          "output_type": "stream",
          "name": "stdout",
          "text": [
            "พันทิพา ได้เกรด B\n",
            "ศุภนิตา ได้เกรด C\n",
            "ปนัดดา ได้เกรด A\n",
            "ทรงกลด ได้เกรด F\n"
          ]
        }
      ]
    },
    {
      "cell_type": "markdown",
      "source": [
        "## HW2 Example"
      ],
      "metadata": {
        "id": "CrnK1_WPaYv7"
      }
    },
    {
      "cell_type": "code",
      "source": [
        "time_list =  [\n",
        "    [\"18:09:10\", \"18:25:10\"],\n",
        "    [\"13:38:39\", \"23:54:39\"],\n",
        "    [\"16:49:58\", \"18:05:58\"],\n",
        "    [\"21:49:10\", \"22:24:10\"],\n",
        "    [\"08:52:21\", \"09:25:21\"],\n",
        "    [\"06:56:26\", \"07:49:26\"],\n",
        "    [\"12:08:05\", \"12:43:05\"],\n",
        "    [\"01:48:38\", \"07:18:38\"],\n",
        "    [\"08:51:21\", \"10:17:21\"],\n",
        "    [\"17:05:17\", \"18:09:17\"]]\n",
        "\n",
        "def time_to_second(time1,time2):\n",
        "    time1_list = time1.split(':')\n",
        "    time2_list = time2.split(':')\n",
        "    time1_sec = int(time1_list[0])*3600 + int(time1_list[1])*60 + int(time1_list[2])\n",
        "    time2_sec = int(time2_list[0])*3600 + int(time2_list[1])*60 + int(time2_list[2])\n",
        "    return(time2_sec - time1_sec)\n",
        "\n",
        "for time1,time2 in time_list:\n",
        "  diff_seconds = time_to_second(time1,time2)\n",
        "  print(f\"Time difference between {time1} - {time2} is {diff_seconds} seconds\")"
      ],
      "metadata": {
        "colab": {
          "base_uri": "https://localhost:8080/"
        },
        "id": "BqYhLFc5aYa2",
        "outputId": "825e1a7c-f359-44cc-9e02-160670dc983c"
      },
      "execution_count": null,
      "outputs": [
        {
          "output_type": "stream",
          "name": "stdout",
          "text": [
            "Time difference between 18:09:10 - 18:25:10 is 960 seconds\n",
            "Time difference between 13:38:39 - 23:54:39 is 36960 seconds\n",
            "Time difference between 16:49:58 - 18:05:58 is 4560 seconds\n",
            "Time difference between 21:49:10 - 22:24:10 is 2100 seconds\n",
            "Time difference between 08:52:21 - 09:25:21 is 1980 seconds\n",
            "Time difference between 06:56:26 - 07:49:26 is 3180 seconds\n",
            "Time difference between 12:08:05 - 12:43:05 is 2100 seconds\n",
            "Time difference between 01:48:38 - 07:18:38 is 19800 seconds\n",
            "Time difference between 08:51:21 - 10:17:21 is 5160 seconds\n",
            "Time difference between 17:05:17 - 18:09:17 is 3840 seconds\n"
          ]
        }
      ]
    },
    {
      "cell_type": "code",
      "source": [
        "time1 = \"18:09:10\"\n",
        "time2 = \"00:25:10\"\n",
        "diff_seconds = time_to_second(time1,time2)\n",
        "print(f\"Time difference between {time1} - {time2} is {diff_seconds} seconds\")"
      ],
      "metadata": {
        "colab": {
          "base_uri": "https://localhost:8080/"
        },
        "id": "lbz-CNPlbGYq",
        "outputId": "31befb8b-40ae-47b0-876d-a94e7ecfe760"
      },
      "execution_count": null,
      "outputs": [
        {
          "output_type": "stream",
          "name": "stdout",
          "text": [
            "Time difference between 18:09:10 - 00:25:10 is -63840 seconds\n"
          ]
        }
      ]
    },
    {
      "cell_type": "markdown",
      "metadata": {
        "id": "pLDGW8IobPqk"
      },
      "source": [
        "# Conditional statemet คือ ประโยคเงื่อนไข"
      ]
    },
    {
      "cell_type": "markdown",
      "source": [
        "ชนิดตัวแปรที่เกี่ยวข้อ Boolean (True,False)"
      ],
      "metadata": {
        "id": "TvK12jMwcVp8"
      }
    },
    {
      "cell_type": "code",
      "source": [
        "condition_1 = True\n",
        "condition_2 = False"
      ],
      "metadata": {
        "id": "JWxlKa-icUk6"
      },
      "execution_count": null,
      "outputs": []
    },
    {
      "cell_type": "markdown",
      "metadata": {
        "id": "8_-zCLkrbPqk"
      },
      "source": [
        "### การวนลูปโดยมีเงื่อนไขต่างๆมาเกี่ยวข้อง โดยมี pattern ดังนี้\n"
      ]
    },
    {
      "cell_type": "markdown",
      "metadata": {
        "id": "ZQuWb-bybPqk"
      },
      "source": [
        "```Python\n",
        "if condition1 :\n",
        "    do something\n",
        "elif condition2 :  #elif คือ else if\n",
        "    do another thing\n",
        "else:\n",
        "    do ...\n",
        "```\n",
        "    "
      ]
    },
    {
      "cell_type": "markdown",
      "metadata": {
        "id": "kUPdCRG7bPqk"
      },
      "source": [
        "## ==, !=,>=,<=,<,> Operator ของตัวเลข"
      ]
    },
    {
      "cell_type": "code",
      "source": [
        "def time_to_second(time1):\n",
        "    time1_list = time1.split(':')\n",
        "    time1_sec = int(time1_list[0])*3600 + int(time1_list[1])*60 + int(time1_list[2])\n",
        "    return time1_sec"
      ],
      "metadata": {
        "id": "9NIOIupSd_Zn"
      },
      "execution_count": null,
      "outputs": []
    },
    {
      "cell_type": "code",
      "source": [
        "time_list =  [\n",
        "    [\"18:09:10\", \"18:25:10\"],\n",
        "    [\"13:38:39\", \"23:54:39\"],[\"16:49:58\", \"18:05:58\"],\n",
        "    [\"21:49:10\", \"22:24:10\"],[\"08:52:21\", \"09:25:21\"],\n",
        "    [\"06:56:26\", \"07:49:26\"],[\"12:08:05\", \"12:43:05\"],\n",
        "    [\"01:48:38\", \"07:18:38\"],[\"08:51:21\", \"10:17:21\"],\n",
        "    [\"17:05:17\", \"18:09:17\"],[\"18:51:21\", \"00:17:21\"],\n",
        "    [\"17:05:17\", \"11:09:17\"],]"
      ],
      "metadata": {
        "id": "CYcYQJ45d8Wx"
      },
      "execution_count": null,
      "outputs": []
    },
    {
      "cell_type": "code",
      "source": [
        "for time1,time2 in time_list:\n",
        "\n",
        "    if time_to_second(time1) < time_to_second(time2): #ถ้า time1 น้อยกว่า time2\n",
        "        diff_seconds = time_to_second(time2) - time_to_second(time1)\n",
        "    else: #ถ้า time1 ไม่น้อยกว่า time2\n",
        "        diff_seconds = (time_to_second(time2)+(24*60*60)) - time_to_second(time1)\n",
        "\n",
        "    print(f\"Time difference between {time1} - {time2} is {diff_seconds} seconds\")"
      ],
      "metadata": {
        "colab": {
          "base_uri": "https://localhost:8080/"
        },
        "id": "sv-1il2_dmvv",
        "outputId": "50f45721-6ca1-4fc0-f786-ec748affb410"
      },
      "execution_count": null,
      "outputs": [
        {
          "output_type": "stream",
          "name": "stdout",
          "text": [
            "Time difference between 18:09:10 - 18:25:10 is 960 seconds\n",
            "Time difference between 13:38:39 - 23:54:39 is 36960 seconds\n",
            "Time difference between 16:49:58 - 18:05:58 is 4560 seconds\n",
            "Time difference between 21:49:10 - 22:24:10 is 2100 seconds\n",
            "Time difference between 08:52:21 - 09:25:21 is 1980 seconds\n",
            "Time difference between 06:56:26 - 07:49:26 is 3180 seconds\n",
            "Time difference between 12:08:05 - 12:43:05 is 2100 seconds\n",
            "Time difference between 01:48:38 - 07:18:38 is 19800 seconds\n",
            "Time difference between 08:51:21 - 10:17:21 is 5160 seconds\n",
            "Time difference between 17:05:17 - 18:09:17 is 3840 seconds\n",
            "Time difference between 18:51:21 - 00:17:21 is 19560 seconds\n",
            "Time difference between 17:05:17 - 11:09:17 is 65040 seconds\n"
          ]
        }
      ]
    },
    {
      "cell_type": "markdown",
      "source": [
        "# HW3 เพิ่ม ฟังก์ชั่นแปลงวินาทีกลับมาเป็น ชั่วโมง นาที วินาที โดยไม่ใช่ฟังก์ชั่นช่วยเหลืออื่นๆของ python (~~import~~) ถ้าส่วนของ ชั่วโมง นาที วินาที เป็นศูนย์ ไม่ต้องแสดง"
      ],
      "metadata": {
        "id": "JMvgwO7tgxSZ"
      }
    },
    {
      "cell_type": "markdown",
      "metadata": {
        "id": "sSySEFHNbPql"
      },
      "source": [
        "# HW 4\n",
        "#### เขียน function ตัดเกรด โดยที่ input เป็นคะแนน(0-100) , output เป็นเกรด (F-A)\n",
        "#### วนลูปตัดเกรด input = [1,50,65,90,101,-5,49]"
      ]
    },
    {
      "cell_type": "markdown",
      "metadata": {
        "id": "c3TDhZHzbPqm"
      },
      "source": [
        "##### กำหนด\n",
        "      ถ้าคะแนนอยู่ระหว่างมากกว่าหรือเท่ากับ  0  แต่น้อยกว่า 50 จะได้เกรด F\n",
        "      ถ้าคะแนนอยู่ระหว่างมากกว่าหรือเท่ากับ 50 แต่น้อยกว่า 55 จะได้เกรด D\n",
        "      ถ้าคะแนนอยู่ระหว่างมากกว่าหรือเท่ากับ 55 แต่น้อยกว่า 60 จะได้เกรด D+\n",
        "      ถ้าคะแนนอยู่ระหว่างมากกว่าหรือเท่ากับ 60 แต่น้อยกว่า 65 จะได้เกรด C\n",
        "      ถ้าคะแนนอยู่ระหว่างมากกว่าหรือเท่ากับ 65 แต่น้อยกว่า 70 จะได้เกรด C+\n",
        "      ถ้าคะแนนอยู่ระหว่างมากกว่าหรือเท่ากับ 70 แต่น้อยกว่า 75 จะได้เกรด B\n",
        "      ถ้าคะแนนอยู่ระหว่างมากกว่าหรือเท่ากับ 75 แต่น้อยกว่า 80 จะได้เกรด B+\n",
        "      ถ้าคะแนนอยู่ระหว่างมากกว่าหรือเท่ากับ 80  จะได้เกรด A\n",
        "      แต่ว่าค่าคะแนนจะต้องไม่ต่ำกว่า 0 และมากกว่า 100 ไม่งั้นจะเกิด error"
      ]
    },
    {
      "cell_type": "markdown",
      "source": [
        "## ```&```, ```|```, ```in```, ```is```   :  Operator อื่นๆ"
      ],
      "metadata": {
        "id": "HSMQXdmmipMp"
      }
    },
    {
      "cell_type": "code",
      "source": [
        "if (1>0) & (0>-1):\n",
        "    print(True & True)"
      ],
      "metadata": {
        "id": "ES5d1z0ti306",
        "outputId": "4bc178b2-a5d8-4476-e02c-c87ddd5b91ce",
        "colab": {
          "base_uri": "https://localhost:8080/"
        }
      },
      "execution_count": null,
      "outputs": [
        {
          "output_type": "stream",
          "name": "stdout",
          "text": [
            "True\n"
          ]
        }
      ]
    },
    {
      "cell_type": "code",
      "source": [
        "if 'T' in 'Thanapong':\n",
        "    print('T in Thanapong')"
      ],
      "metadata": {
        "id": "3COnyOTKipAc",
        "outputId": "d50e2919-9cbc-41fb-d20f-6e5a371ebba1",
        "colab": {
          "base_uri": "https://localhost:8080/"
        }
      },
      "execution_count": null,
      "outputs": [
        {
          "output_type": "stream",
          "name": "stdout",
          "text": [
            "T in Thanapong\n"
          ]
        }
      ]
    },
    {
      "cell_type": "code",
      "source": [
        "def return_nothing(x):\n",
        "    x = x+1"
      ],
      "metadata": {
        "id": "01N3TOG9k3ti"
      },
      "execution_count": null,
      "outputs": []
    },
    {
      "cell_type": "code",
      "source": [
        "a = return_nothing(5)"
      ],
      "metadata": {
        "id": "drWbuBwNldOL"
      },
      "execution_count": null,
      "outputs": []
    },
    {
      "cell_type": "code",
      "source": [
        "if a is None:\n",
        "    print('x is null')"
      ],
      "metadata": {
        "id": "pOj0pkEEkbuW",
        "outputId": "29d5bf18-d242-40f3-a542-26c39aa2fcca",
        "colab": {
          "base_uri": "https://localhost:8080/"
        }
      },
      "execution_count": null,
      "outputs": [
        {
          "output_type": "stream",
          "name": "stdout",
          "text": [
            "x is null\n"
          ]
        }
      ]
    },
    {
      "cell_type": "code",
      "source": [],
      "metadata": {
        "id": "y1ET-H8ylyxP"
      },
      "execution_count": null,
      "outputs": []
    },
    {
      "cell_type": "markdown",
      "metadata": {
        "id": "Bg3vVE3GbPqn"
      },
      "source": [
        "# Finish"
      ]
    }
  ]
}