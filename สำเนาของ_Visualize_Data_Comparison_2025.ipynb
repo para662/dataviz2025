{
  "nbformat": 4,
  "nbformat_minor": 0,
  "metadata": {
    "colab": {
      "provenance": [],
      "include_colab_link": true
    },
    "kernelspec": {
      "name": "python3",
      "display_name": "Python 3"
    },
    "language_info": {
      "name": "python"
    }
  },
  "cells": [
    {
      "cell_type": "markdown",
      "metadata": {
        "id": "view-in-github",
        "colab_type": "text"
      },
      "source": [
        "<a href=\"https://colab.research.google.com/github/para662/dataviz2025/blob/main/%E0%B8%AA%E0%B8%B3%E0%B9%80%E0%B8%99%E0%B8%B2%E0%B8%82%E0%B8%AD%E0%B8%87_Visualize_Data_Comparison_2025.ipynb\" target=\"_parent\"><img src=\"https://colab.research.google.com/assets/colab-badge.svg\" alt=\"Open In Colab\"/></a>"
      ]
    },
    {
      "cell_type": "code",
      "metadata": {
        "id": "s-EpekMA-N-G",
        "colab": {
          "base_uri": "https://localhost:8080/"
        },
        "outputId": "4590c053-29e6-42f3-f260-b340fc82d2b6"
      },
      "source": [
        "import pandas as pd\n",
        "import numpy as np\n",
        "import os\n",
        "!pip install squarify\n",
        "#from datetime import datetime as dt\n",
        "#from datetime import time"
      ],
      "execution_count": 37,
      "outputs": [
        {
          "output_type": "stream",
          "name": "stdout",
          "text": [
            "Requirement already satisfied: squarify in /usr/local/lib/python3.12/dist-packages (0.4.4)\n"
          ]
        }
      ]
    },
    {
      "cell_type": "code",
      "metadata": {
        "id": "BuKeMzKFJLwV",
        "colab": {
          "base_uri": "https://localhost:8080/"
        },
        "outputId": "b6a5989e-3335-4dcb-f3b3-5113e53572ea"
      },
      "source": [
        "from google.colab import drive\n",
        "drive.mount('/content/drive', force_remount=True)"
      ],
      "execution_count": 38,
      "outputs": [
        {
          "output_type": "stream",
          "name": "stdout",
          "text": [
            "Mounted at /content/drive\n"
          ]
        }
      ]
    },
    {
      "cell_type": "code",
      "metadata": {
        "id": "tvrpH39BJPCi"
      },
      "source": [
        "path = '/content/drive/MyDrive/data/2025-01/2025-01-bedfordshire-stop-and-search.csv'"
      ],
      "execution_count": 39,
      "outputs": []
    },
    {
      "cell_type": "code",
      "metadata": {
        "id": "uBjezJ34JaG-",
        "colab": {
          "base_uri": "https://localhost:8080/",
          "height": 660
        },
        "outputId": "f98b0cc6-3b1c-4a2c-d47f-9a3e9321b733"
      },
      "source": [
        "data = pd.read_csv(path)\n",
        "data.head()"
      ],
      "execution_count": 40,
      "outputs": [
        {
          "output_type": "execute_result",
          "data": {
            "text/plain": [
              "            Type                       Date  Part of a policing operation  \\\n",
              "0  Person search  2025-01-01T00:35:00+00:00                         False   \n",
              "1  Person search  2025-01-01T02:30:00+00:00                         False   \n",
              "2  Person search  2025-01-01T02:30:00+00:00                         False   \n",
              "3  Person search  2025-01-01T02:30:00+00:00                         False   \n",
              "4  Person search  2025-01-01T02:30:00+00:00                         False   \n",
              "\n",
              "   Policing operation   Latitude  Longitude  Gender Age range  \\\n",
              "0                 NaN  51.881481   -0.41311    Male     25-34   \n",
              "1                 NaN  52.132059   -0.29660    Male     10-17   \n",
              "2                 NaN  52.132059   -0.29660    Male     10-17   \n",
              "3                 NaN  52.132059   -0.29660  Female     10-17   \n",
              "4                 NaN  52.132059   -0.29660    Male     10-17   \n",
              "\n",
              "                              Self-defined ethnicity  \\\n",
              "0  Mixed/Multiple ethnic groups - Any other Mixed...   \n",
              "1  White - English/Welsh/Scottish/Northern Irish/...   \n",
              "2  White - English/Welsh/Scottish/Northern Irish/...   \n",
              "3  White - English/Welsh/Scottish/Northern Irish/...   \n",
              "4  White - English/Welsh/Scottish/Northern Irish/...   \n",
              "\n",
              "  Officer-defined ethnicity  \\\n",
              "0                     Other   \n",
              "1                     White   \n",
              "2                     White   \n",
              "3                     White   \n",
              "4                     White   \n",
              "\n",
              "                                         Legislation   Object of search  \\\n",
              "0  Police and Criminal Evidence Act 1984 (section 1)  Offensive weapons   \n",
              "1  Police and Criminal Evidence Act 1984 (section 1)  Offensive weapons   \n",
              "2  Police and Criminal Evidence Act 1984 (section 1)  Offensive weapons   \n",
              "3  Police and Criminal Evidence Act 1984 (section 1)  Offensive weapons   \n",
              "4  Police and Criminal Evidence Act 1984 (section 1)  Offensive weapons   \n",
              "\n",
              "                        Outcome Outcome linked to object of search  \\\n",
              "0                        Arrest                              False   \n",
              "1  A no further action disposal                                NaN   \n",
              "2  A no further action disposal                                NaN   \n",
              "3  A no further action disposal                                NaN   \n",
              "4  A no further action disposal                                NaN   \n",
              "\n",
              "   Removal of more than just outer clothing  \n",
              "0                                     False  \n",
              "1                                     False  \n",
              "2                                     False  \n",
              "3                                     False  \n",
              "4                                     False  "
            ],
            "text/html": [
              "\n",
              "  <div id=\"df-52e891c8-dbd4-42ed-afec-cb9bdf0d7190\" class=\"colab-df-container\">\n",
              "    <div>\n",
              "<style scoped>\n",
              "    .dataframe tbody tr th:only-of-type {\n",
              "        vertical-align: middle;\n",
              "    }\n",
              "\n",
              "    .dataframe tbody tr th {\n",
              "        vertical-align: top;\n",
              "    }\n",
              "\n",
              "    .dataframe thead th {\n",
              "        text-align: right;\n",
              "    }\n",
              "</style>\n",
              "<table border=\"1\" class=\"dataframe\">\n",
              "  <thead>\n",
              "    <tr style=\"text-align: right;\">\n",
              "      <th></th>\n",
              "      <th>Type</th>\n",
              "      <th>Date</th>\n",
              "      <th>Part of a policing operation</th>\n",
              "      <th>Policing operation</th>\n",
              "      <th>Latitude</th>\n",
              "      <th>Longitude</th>\n",
              "      <th>Gender</th>\n",
              "      <th>Age range</th>\n",
              "      <th>Self-defined ethnicity</th>\n",
              "      <th>Officer-defined ethnicity</th>\n",
              "      <th>Legislation</th>\n",
              "      <th>Object of search</th>\n",
              "      <th>Outcome</th>\n",
              "      <th>Outcome linked to object of search</th>\n",
              "      <th>Removal of more than just outer clothing</th>\n",
              "    </tr>\n",
              "  </thead>\n",
              "  <tbody>\n",
              "    <tr>\n",
              "      <th>0</th>\n",
              "      <td>Person search</td>\n",
              "      <td>2025-01-01T00:35:00+00:00</td>\n",
              "      <td>False</td>\n",
              "      <td>NaN</td>\n",
              "      <td>51.881481</td>\n",
              "      <td>-0.41311</td>\n",
              "      <td>Male</td>\n",
              "      <td>25-34</td>\n",
              "      <td>Mixed/Multiple ethnic groups - Any other Mixed...</td>\n",
              "      <td>Other</td>\n",
              "      <td>Police and Criminal Evidence Act 1984 (section 1)</td>\n",
              "      <td>Offensive weapons</td>\n",
              "      <td>Arrest</td>\n",
              "      <td>False</td>\n",
              "      <td>False</td>\n",
              "    </tr>\n",
              "    <tr>\n",
              "      <th>1</th>\n",
              "      <td>Person search</td>\n",
              "      <td>2025-01-01T02:30:00+00:00</td>\n",
              "      <td>False</td>\n",
              "      <td>NaN</td>\n",
              "      <td>52.132059</td>\n",
              "      <td>-0.29660</td>\n",
              "      <td>Male</td>\n",
              "      <td>10-17</td>\n",
              "      <td>White - English/Welsh/Scottish/Northern Irish/...</td>\n",
              "      <td>White</td>\n",
              "      <td>Police and Criminal Evidence Act 1984 (section 1)</td>\n",
              "      <td>Offensive weapons</td>\n",
              "      <td>A no further action disposal</td>\n",
              "      <td>NaN</td>\n",
              "      <td>False</td>\n",
              "    </tr>\n",
              "    <tr>\n",
              "      <th>2</th>\n",
              "      <td>Person search</td>\n",
              "      <td>2025-01-01T02:30:00+00:00</td>\n",
              "      <td>False</td>\n",
              "      <td>NaN</td>\n",
              "      <td>52.132059</td>\n",
              "      <td>-0.29660</td>\n",
              "      <td>Male</td>\n",
              "      <td>10-17</td>\n",
              "      <td>White - English/Welsh/Scottish/Northern Irish/...</td>\n",
              "      <td>White</td>\n",
              "      <td>Police and Criminal Evidence Act 1984 (section 1)</td>\n",
              "      <td>Offensive weapons</td>\n",
              "      <td>A no further action disposal</td>\n",
              "      <td>NaN</td>\n",
              "      <td>False</td>\n",
              "    </tr>\n",
              "    <tr>\n",
              "      <th>3</th>\n",
              "      <td>Person search</td>\n",
              "      <td>2025-01-01T02:30:00+00:00</td>\n",
              "      <td>False</td>\n",
              "      <td>NaN</td>\n",
              "      <td>52.132059</td>\n",
              "      <td>-0.29660</td>\n",
              "      <td>Female</td>\n",
              "      <td>10-17</td>\n",
              "      <td>White - English/Welsh/Scottish/Northern Irish/...</td>\n",
              "      <td>White</td>\n",
              "      <td>Police and Criminal Evidence Act 1984 (section 1)</td>\n",
              "      <td>Offensive weapons</td>\n",
              "      <td>A no further action disposal</td>\n",
              "      <td>NaN</td>\n",
              "      <td>False</td>\n",
              "    </tr>\n",
              "    <tr>\n",
              "      <th>4</th>\n",
              "      <td>Person search</td>\n",
              "      <td>2025-01-01T02:30:00+00:00</td>\n",
              "      <td>False</td>\n",
              "      <td>NaN</td>\n",
              "      <td>52.132059</td>\n",
              "      <td>-0.29660</td>\n",
              "      <td>Male</td>\n",
              "      <td>10-17</td>\n",
              "      <td>White - English/Welsh/Scottish/Northern Irish/...</td>\n",
              "      <td>White</td>\n",
              "      <td>Police and Criminal Evidence Act 1984 (section 1)</td>\n",
              "      <td>Offensive weapons</td>\n",
              "      <td>A no further action disposal</td>\n",
              "      <td>NaN</td>\n",
              "      <td>False</td>\n",
              "    </tr>\n",
              "  </tbody>\n",
              "</table>\n",
              "</div>\n",
              "    <div class=\"colab-df-buttons\">\n",
              "\n",
              "  <div class=\"colab-df-container\">\n",
              "    <button class=\"colab-df-convert\" onclick=\"convertToInteractive('df-52e891c8-dbd4-42ed-afec-cb9bdf0d7190')\"\n",
              "            title=\"Convert this dataframe to an interactive table.\"\n",
              "            style=\"display:none;\">\n",
              "\n",
              "  <svg xmlns=\"http://www.w3.org/2000/svg\" height=\"24px\" viewBox=\"0 -960 960 960\">\n",
              "    <path d=\"M120-120v-720h720v720H120Zm60-500h600v-160H180v160Zm220 220h160v-160H400v160Zm0 220h160v-160H400v160ZM180-400h160v-160H180v160Zm440 0h160v-160H620v160ZM180-180h160v-160H180v160Zm440 0h160v-160H620v160Z\"/>\n",
              "  </svg>\n",
              "    </button>\n",
              "\n",
              "  <style>\n",
              "    .colab-df-container {\n",
              "      display:flex;\n",
              "      gap: 12px;\n",
              "    }\n",
              "\n",
              "    .colab-df-convert {\n",
              "      background-color: #E8F0FE;\n",
              "      border: none;\n",
              "      border-radius: 50%;\n",
              "      cursor: pointer;\n",
              "      display: none;\n",
              "      fill: #1967D2;\n",
              "      height: 32px;\n",
              "      padding: 0 0 0 0;\n",
              "      width: 32px;\n",
              "    }\n",
              "\n",
              "    .colab-df-convert:hover {\n",
              "      background-color: #E2EBFA;\n",
              "      box-shadow: 0px 1px 2px rgba(60, 64, 67, 0.3), 0px 1px 3px 1px rgba(60, 64, 67, 0.15);\n",
              "      fill: #174EA6;\n",
              "    }\n",
              "\n",
              "    .colab-df-buttons div {\n",
              "      margin-bottom: 4px;\n",
              "    }\n",
              "\n",
              "    [theme=dark] .colab-df-convert {\n",
              "      background-color: #3B4455;\n",
              "      fill: #D2E3FC;\n",
              "    }\n",
              "\n",
              "    [theme=dark] .colab-df-convert:hover {\n",
              "      background-color: #434B5C;\n",
              "      box-shadow: 0px 1px 3px 1px rgba(0, 0, 0, 0.15);\n",
              "      filter: drop-shadow(0px 1px 2px rgba(0, 0, 0, 0.3));\n",
              "      fill: #FFFFFF;\n",
              "    }\n",
              "  </style>\n",
              "\n",
              "    <script>\n",
              "      const buttonEl =\n",
              "        document.querySelector('#df-52e891c8-dbd4-42ed-afec-cb9bdf0d7190 button.colab-df-convert');\n",
              "      buttonEl.style.display =\n",
              "        google.colab.kernel.accessAllowed ? 'block' : 'none';\n",
              "\n",
              "      async function convertToInteractive(key) {\n",
              "        const element = document.querySelector('#df-52e891c8-dbd4-42ed-afec-cb9bdf0d7190');\n",
              "        const dataTable =\n",
              "          await google.colab.kernel.invokeFunction('convertToInteractive',\n",
              "                                                    [key], {});\n",
              "        if (!dataTable) return;\n",
              "\n",
              "        const docLinkHtml = 'Like what you see? Visit the ' +\n",
              "          '<a target=\"_blank\" href=https://colab.research.google.com/notebooks/data_table.ipynb>data table notebook</a>'\n",
              "          + ' to learn more about interactive tables.';\n",
              "        element.innerHTML = '';\n",
              "        dataTable['output_type'] = 'display_data';\n",
              "        await google.colab.output.renderOutput(dataTable, element);\n",
              "        const docLink = document.createElement('div');\n",
              "        docLink.innerHTML = docLinkHtml;\n",
              "        element.appendChild(docLink);\n",
              "      }\n",
              "    </script>\n",
              "  </div>\n",
              "\n",
              "\n",
              "    <div id=\"df-b47790cb-99e3-4374-8f20-36c4a0e18346\">\n",
              "      <button class=\"colab-df-quickchart\" onclick=\"quickchart('df-b47790cb-99e3-4374-8f20-36c4a0e18346')\"\n",
              "                title=\"Suggest charts\"\n",
              "                style=\"display:none;\">\n",
              "\n",
              "<svg xmlns=\"http://www.w3.org/2000/svg\" height=\"24px\"viewBox=\"0 0 24 24\"\n",
              "     width=\"24px\">\n",
              "    <g>\n",
              "        <path d=\"M19 3H5c-1.1 0-2 .9-2 2v14c0 1.1.9 2 2 2h14c1.1 0 2-.9 2-2V5c0-1.1-.9-2-2-2zM9 17H7v-7h2v7zm4 0h-2V7h2v10zm4 0h-2v-4h2v4z\"/>\n",
              "    </g>\n",
              "</svg>\n",
              "      </button>\n",
              "\n",
              "<style>\n",
              "  .colab-df-quickchart {\n",
              "      --bg-color: #E8F0FE;\n",
              "      --fill-color: #1967D2;\n",
              "      --hover-bg-color: #E2EBFA;\n",
              "      --hover-fill-color: #174EA6;\n",
              "      --disabled-fill-color: #AAA;\n",
              "      --disabled-bg-color: #DDD;\n",
              "  }\n",
              "\n",
              "  [theme=dark] .colab-df-quickchart {\n",
              "      --bg-color: #3B4455;\n",
              "      --fill-color: #D2E3FC;\n",
              "      --hover-bg-color: #434B5C;\n",
              "      --hover-fill-color: #FFFFFF;\n",
              "      --disabled-bg-color: #3B4455;\n",
              "      --disabled-fill-color: #666;\n",
              "  }\n",
              "\n",
              "  .colab-df-quickchart {\n",
              "    background-color: var(--bg-color);\n",
              "    border: none;\n",
              "    border-radius: 50%;\n",
              "    cursor: pointer;\n",
              "    display: none;\n",
              "    fill: var(--fill-color);\n",
              "    height: 32px;\n",
              "    padding: 0;\n",
              "    width: 32px;\n",
              "  }\n",
              "\n",
              "  .colab-df-quickchart:hover {\n",
              "    background-color: var(--hover-bg-color);\n",
              "    box-shadow: 0 1px 2px rgba(60, 64, 67, 0.3), 0 1px 3px 1px rgba(60, 64, 67, 0.15);\n",
              "    fill: var(--button-hover-fill-color);\n",
              "  }\n",
              "\n",
              "  .colab-df-quickchart-complete:disabled,\n",
              "  .colab-df-quickchart-complete:disabled:hover {\n",
              "    background-color: var(--disabled-bg-color);\n",
              "    fill: var(--disabled-fill-color);\n",
              "    box-shadow: none;\n",
              "  }\n",
              "\n",
              "  .colab-df-spinner {\n",
              "    border: 2px solid var(--fill-color);\n",
              "    border-color: transparent;\n",
              "    border-bottom-color: var(--fill-color);\n",
              "    animation:\n",
              "      spin 1s steps(1) infinite;\n",
              "  }\n",
              "\n",
              "  @keyframes spin {\n",
              "    0% {\n",
              "      border-color: transparent;\n",
              "      border-bottom-color: var(--fill-color);\n",
              "      border-left-color: var(--fill-color);\n",
              "    }\n",
              "    20% {\n",
              "      border-color: transparent;\n",
              "      border-left-color: var(--fill-color);\n",
              "      border-top-color: var(--fill-color);\n",
              "    }\n",
              "    30% {\n",
              "      border-color: transparent;\n",
              "      border-left-color: var(--fill-color);\n",
              "      border-top-color: var(--fill-color);\n",
              "      border-right-color: var(--fill-color);\n",
              "    }\n",
              "    40% {\n",
              "      border-color: transparent;\n",
              "      border-right-color: var(--fill-color);\n",
              "      border-top-color: var(--fill-color);\n",
              "    }\n",
              "    60% {\n",
              "      border-color: transparent;\n",
              "      border-right-color: var(--fill-color);\n",
              "    }\n",
              "    80% {\n",
              "      border-color: transparent;\n",
              "      border-right-color: var(--fill-color);\n",
              "      border-bottom-color: var(--fill-color);\n",
              "    }\n",
              "    90% {\n",
              "      border-color: transparent;\n",
              "      border-bottom-color: var(--fill-color);\n",
              "    }\n",
              "  }\n",
              "</style>\n",
              "\n",
              "      <script>\n",
              "        async function quickchart(key) {\n",
              "          const quickchartButtonEl =\n",
              "            document.querySelector('#' + key + ' button');\n",
              "          quickchartButtonEl.disabled = true;  // To prevent multiple clicks.\n",
              "          quickchartButtonEl.classList.add('colab-df-spinner');\n",
              "          try {\n",
              "            const charts = await google.colab.kernel.invokeFunction(\n",
              "                'suggestCharts', [key], {});\n",
              "          } catch (error) {\n",
              "            console.error('Error during call to suggestCharts:', error);\n",
              "          }\n",
              "          quickchartButtonEl.classList.remove('colab-df-spinner');\n",
              "          quickchartButtonEl.classList.add('colab-df-quickchart-complete');\n",
              "        }\n",
              "        (() => {\n",
              "          let quickchartButtonEl =\n",
              "            document.querySelector('#df-b47790cb-99e3-4374-8f20-36c4a0e18346 button');\n",
              "          quickchartButtonEl.style.display =\n",
              "            google.colab.kernel.accessAllowed ? 'block' : 'none';\n",
              "        })();\n",
              "      </script>\n",
              "    </div>\n",
              "\n",
              "    </div>\n",
              "  </div>\n"
            ],
            "application/vnd.google.colaboratory.intrinsic+json": {
              "type": "dataframe",
              "variable_name": "data",
              "summary": "{\n  \"name\": \"data\",\n  \"rows\": 387,\n  \"fields\": [\n    {\n      \"column\": \"Type\",\n      \"properties\": {\n        \"dtype\": \"category\",\n        \"num_unique_values\": 3,\n        \"samples\": [\n          \"Person search\",\n          \"Vehicle search\",\n          \"Person and Vehicle search\"\n        ],\n        \"semantic_type\": \"\",\n        \"description\": \"\"\n      }\n    },\n    {\n      \"column\": \"Date\",\n      \"properties\": {\n        \"dtype\": \"object\",\n        \"num_unique_values\": 313,\n        \"samples\": [\n          \"2025-01-06T18:00:00+00:00\",\n          \"2025-01-02T10:00:00+00:00\",\n          \"2025-01-21T12:39:00+00:00\"\n        ],\n        \"semantic_type\": \"\",\n        \"description\": \"\"\n      }\n    },\n    {\n      \"column\": \"Part of a policing operation\",\n      \"properties\": {\n        \"dtype\": \"boolean\",\n        \"num_unique_values\": 2,\n        \"samples\": [\n          true,\n          false\n        ],\n        \"semantic_type\": \"\",\n        \"description\": \"\"\n      }\n    },\n    {\n      \"column\": \"Policing operation\",\n      \"properties\": {\n        \"dtype\": \"number\",\n        \"std\": null,\n        \"min\": null,\n        \"max\": null,\n        \"num_unique_values\": 0,\n        \"samples\": [],\n        \"semantic_type\": \"\",\n        \"description\": \"\"\n      }\n    },\n    {\n      \"column\": \"Latitude\",\n      \"properties\": {\n        \"dtype\": \"number\",\n        \"std\": 0.11496803515108127,\n        \"min\": 51.642262,\n        \"max\": 52.349993,\n        \"num_unique_values\": 188,\n        \"samples\": [],\n        \"semantic_type\": \"\",\n        \"description\": \"\"\n      }\n    },\n    {\n      \"column\": \"Longitude\",\n      \"properties\": {\n        \"dtype\": \"number\",\n        \"std\": 0.14599918986953786,\n        \"min\": -0.649391,\n        \"max\": 0.48943,\n        \"num_unique_values\": 188,\n        \"samples\": [],\n        \"semantic_type\": \"\",\n        \"description\": \"\"\n      }\n    },\n    {\n      \"column\": \"Gender\",\n      \"properties\": {\n        \"dtype\": \"category\",\n        \"num_unique_values\": 2,\n        \"samples\": [],\n        \"semantic_type\": \"\",\n        \"description\": \"\"\n      }\n    },\n    {\n      \"column\": \"Age range\",\n      \"properties\": {\n        \"dtype\": \"category\",\n        \"num_unique_values\": 5,\n        \"samples\": [],\n        \"semantic_type\": \"\",\n        \"description\": \"\"\n      }\n    },\n    {\n      \"column\": \"Self-defined ethnicity\",\n      \"properties\": {\n        \"dtype\": \"category\",\n        \"num_unique_values\": 18,\n        \"samples\": [],\n        \"semantic_type\": \"\",\n        \"description\": \"\"\n      }\n    },\n    {\n      \"column\": \"Officer-defined ethnicity\",\n      \"properties\": {\n        \"dtype\": \"category\",\n        \"num_unique_values\": 4,\n        \"samples\": [],\n        \"semantic_type\": \"\",\n        \"description\": \"\"\n      }\n    },\n    {\n      \"column\": \"Legislation\",\n      \"properties\": {\n        \"dtype\": \"category\",\n        \"num_unique_values\": 3,\n        \"samples\": [],\n        \"semantic_type\": \"\",\n        \"description\": \"\"\n      }\n    },\n    {\n      \"column\": \"Object of search\",\n      \"properties\": {\n        \"dtype\": \"category\",\n        \"num_unique_values\": 5,\n        \"samples\": [],\n        \"semantic_type\": \"\",\n        \"description\": \"\"\n      }\n    },\n    {\n      \"column\": \"Outcome\",\n      \"properties\": {\n        \"dtype\": \"category\",\n        \"num_unique_values\": 5,\n        \"samples\": [],\n        \"semantic_type\": \"\",\n        \"description\": \"\"\n      }\n    },\n    {\n      \"column\": \"Outcome linked to object of search\",\n      \"properties\": {\n        \"dtype\": \"category\",\n        \"num_unique_values\": 2,\n        \"samples\": [],\n        \"semantic_type\": \"\",\n        \"description\": \"\"\n      }\n    },\n    {\n      \"column\": \"Removal of more than just outer clothing\",\n      \"properties\": {\n        \"dtype\": \"boolean\",\n        \"num_unique_values\": 2,\n        \"samples\": [],\n        \"semantic_type\": \"\",\n        \"description\": \"\"\n      }\n    }\n  ]\n}"
            }
          },
          "metadata": {},
          "execution_count": 40
        }
      ]
    },
    {
      "cell_type": "markdown",
      "source": [
        "# Quiz 12 สร้างตารางที่แสดงความถี่ของจำนวน case ที่จับโดยตำรวจเชื้อชาติต่างๆ"
      ],
      "metadata": {
        "id": "wX06KBO0wQ9X"
      }
    },
    {
      "cell_type": "code",
      "source": [
        "compared_police_eth = data.groupby('Officer-defined ethnicity')['Type'].count().reset_index()\n",
        "compared_police_eth"
      ],
      "metadata": {
        "colab": {
          "base_uri": "https://localhost:8080/",
          "height": 175
        },
        "id": "n-TaBDWwvoJv",
        "outputId": "ef593261-fa5f-4871-9db4-c95b112327f9"
      },
      "execution_count": 41,
      "outputs": [
        {
          "output_type": "execute_result",
          "data": {
            "text/plain": [
              "  Officer-defined ethnicity  Type\n",
              "0                     Asian    81\n",
              "1                     Black    64\n",
              "2                     Other     9\n",
              "3                     White   199"
            ],
            "text/html": [
              "\n",
              "  <div id=\"df-6d80e66e-90e3-4ed3-9068-993701bb1499\" class=\"colab-df-container\">\n",
              "    <div>\n",
              "<style scoped>\n",
              "    .dataframe tbody tr th:only-of-type {\n",
              "        vertical-align: middle;\n",
              "    }\n",
              "\n",
              "    .dataframe tbody tr th {\n",
              "        vertical-align: top;\n",
              "    }\n",
              "\n",
              "    .dataframe thead th {\n",
              "        text-align: right;\n",
              "    }\n",
              "</style>\n",
              "<table border=\"1\" class=\"dataframe\">\n",
              "  <thead>\n",
              "    <tr style=\"text-align: right;\">\n",
              "      <th></th>\n",
              "      <th>Officer-defined ethnicity</th>\n",
              "      <th>Type</th>\n",
              "    </tr>\n",
              "  </thead>\n",
              "  <tbody>\n",
              "    <tr>\n",
              "      <th>0</th>\n",
              "      <td>Asian</td>\n",
              "      <td>81</td>\n",
              "    </tr>\n",
              "    <tr>\n",
              "      <th>1</th>\n",
              "      <td>Black</td>\n",
              "      <td>64</td>\n",
              "    </tr>\n",
              "    <tr>\n",
              "      <th>2</th>\n",
              "      <td>Other</td>\n",
              "      <td>9</td>\n",
              "    </tr>\n",
              "    <tr>\n",
              "      <th>3</th>\n",
              "      <td>White</td>\n",
              "      <td>199</td>\n",
              "    </tr>\n",
              "  </tbody>\n",
              "</table>\n",
              "</div>\n",
              "    <div class=\"colab-df-buttons\">\n",
              "\n",
              "  <div class=\"colab-df-container\">\n",
              "    <button class=\"colab-df-convert\" onclick=\"convertToInteractive('df-6d80e66e-90e3-4ed3-9068-993701bb1499')\"\n",
              "            title=\"Convert this dataframe to an interactive table.\"\n",
              "            style=\"display:none;\">\n",
              "\n",
              "  <svg xmlns=\"http://www.w3.org/2000/svg\" height=\"24px\" viewBox=\"0 -960 960 960\">\n",
              "    <path d=\"M120-120v-720h720v720H120Zm60-500h600v-160H180v160Zm220 220h160v-160H400v160Zm0 220h160v-160H400v160ZM180-400h160v-160H180v160Zm440 0h160v-160H620v160ZM180-180h160v-160H180v160Zm440 0h160v-160H620v160Z\"/>\n",
              "  </svg>\n",
              "    </button>\n",
              "\n",
              "  <style>\n",
              "    .colab-df-container {\n",
              "      display:flex;\n",
              "      gap: 12px;\n",
              "    }\n",
              "\n",
              "    .colab-df-convert {\n",
              "      background-color: #E8F0FE;\n",
              "      border: none;\n",
              "      border-radius: 50%;\n",
              "      cursor: pointer;\n",
              "      display: none;\n",
              "      fill: #1967D2;\n",
              "      height: 32px;\n",
              "      padding: 0 0 0 0;\n",
              "      width: 32px;\n",
              "    }\n",
              "\n",
              "    .colab-df-convert:hover {\n",
              "      background-color: #E2EBFA;\n",
              "      box-shadow: 0px 1px 2px rgba(60, 64, 67, 0.3), 0px 1px 3px 1px rgba(60, 64, 67, 0.15);\n",
              "      fill: #174EA6;\n",
              "    }\n",
              "\n",
              "    .colab-df-buttons div {\n",
              "      margin-bottom: 4px;\n",
              "    }\n",
              "\n",
              "    [theme=dark] .colab-df-convert {\n",
              "      background-color: #3B4455;\n",
              "      fill: #D2E3FC;\n",
              "    }\n",
              "\n",
              "    [theme=dark] .colab-df-convert:hover {\n",
              "      background-color: #434B5C;\n",
              "      box-shadow: 0px 1px 3px 1px rgba(0, 0, 0, 0.15);\n",
              "      filter: drop-shadow(0px 1px 2px rgba(0, 0, 0, 0.3));\n",
              "      fill: #FFFFFF;\n",
              "    }\n",
              "  </style>\n",
              "\n",
              "    <script>\n",
              "      const buttonEl =\n",
              "        document.querySelector('#df-6d80e66e-90e3-4ed3-9068-993701bb1499 button.colab-df-convert');\n",
              "      buttonEl.style.display =\n",
              "        google.colab.kernel.accessAllowed ? 'block' : 'none';\n",
              "\n",
              "      async function convertToInteractive(key) {\n",
              "        const element = document.querySelector('#df-6d80e66e-90e3-4ed3-9068-993701bb1499');\n",
              "        const dataTable =\n",
              "          await google.colab.kernel.invokeFunction('convertToInteractive',\n",
              "                                                    [key], {});\n",
              "        if (!dataTable) return;\n",
              "\n",
              "        const docLinkHtml = 'Like what you see? Visit the ' +\n",
              "          '<a target=\"_blank\" href=https://colab.research.google.com/notebooks/data_table.ipynb>data table notebook</a>'\n",
              "          + ' to learn more about interactive tables.';\n",
              "        element.innerHTML = '';\n",
              "        dataTable['output_type'] = 'display_data';\n",
              "        await google.colab.output.renderOutput(dataTable, element);\n",
              "        const docLink = document.createElement('div');\n",
              "        docLink.innerHTML = docLinkHtml;\n",
              "        element.appendChild(docLink);\n",
              "      }\n",
              "    </script>\n",
              "  </div>\n",
              "\n",
              "\n",
              "    <div id=\"df-867a5bf6-a448-43d5-816f-d2a2a9d09edf\">\n",
              "      <button class=\"colab-df-quickchart\" onclick=\"quickchart('df-867a5bf6-a448-43d5-816f-d2a2a9d09edf')\"\n",
              "                title=\"Suggest charts\"\n",
              "                style=\"display:none;\">\n",
              "\n",
              "<svg xmlns=\"http://www.w3.org/2000/svg\" height=\"24px\"viewBox=\"0 0 24 24\"\n",
              "     width=\"24px\">\n",
              "    <g>\n",
              "        <path d=\"M19 3H5c-1.1 0-2 .9-2 2v14c0 1.1.9 2 2 2h14c1.1 0 2-.9 2-2V5c0-1.1-.9-2-2-2zM9 17H7v-7h2v7zm4 0h-2V7h2v10zm4 0h-2v-4h2v4z\"/>\n",
              "    </g>\n",
              "</svg>\n",
              "      </button>\n",
              "\n",
              "<style>\n",
              "  .colab-df-quickchart {\n",
              "      --bg-color: #E8F0FE;\n",
              "      --fill-color: #1967D2;\n",
              "      --hover-bg-color: #E2EBFA;\n",
              "      --hover-fill-color: #174EA6;\n",
              "      --disabled-fill-color: #AAA;\n",
              "      --disabled-bg-color: #DDD;\n",
              "  }\n",
              "\n",
              "  [theme=dark] .colab-df-quickchart {\n",
              "      --bg-color: #3B4455;\n",
              "      --fill-color: #D2E3FC;\n",
              "      --hover-bg-color: #434B5C;\n",
              "      --hover-fill-color: #FFFFFF;\n",
              "      --disabled-bg-color: #3B4455;\n",
              "      --disabled-fill-color: #666;\n",
              "  }\n",
              "\n",
              "  .colab-df-quickchart {\n",
              "    background-color: var(--bg-color);\n",
              "    border: none;\n",
              "    border-radius: 50%;\n",
              "    cursor: pointer;\n",
              "    display: none;\n",
              "    fill: var(--fill-color);\n",
              "    height: 32px;\n",
              "    padding: 0;\n",
              "    width: 32px;\n",
              "  }\n",
              "\n",
              "  .colab-df-quickchart:hover {\n",
              "    background-color: var(--hover-bg-color);\n",
              "    box-shadow: 0 1px 2px rgba(60, 64, 67, 0.3), 0 1px 3px 1px rgba(60, 64, 67, 0.15);\n",
              "    fill: var(--button-hover-fill-color);\n",
              "  }\n",
              "\n",
              "  .colab-df-quickchart-complete:disabled,\n",
              "  .colab-df-quickchart-complete:disabled:hover {\n",
              "    background-color: var(--disabled-bg-color);\n",
              "    fill: var(--disabled-fill-color);\n",
              "    box-shadow: none;\n",
              "  }\n",
              "\n",
              "  .colab-df-spinner {\n",
              "    border: 2px solid var(--fill-color);\n",
              "    border-color: transparent;\n",
              "    border-bottom-color: var(--fill-color);\n",
              "    animation:\n",
              "      spin 1s steps(1) infinite;\n",
              "  }\n",
              "\n",
              "  @keyframes spin {\n",
              "    0% {\n",
              "      border-color: transparent;\n",
              "      border-bottom-color: var(--fill-color);\n",
              "      border-left-color: var(--fill-color);\n",
              "    }\n",
              "    20% {\n",
              "      border-color: transparent;\n",
              "      border-left-color: var(--fill-color);\n",
              "      border-top-color: var(--fill-color);\n",
              "    }\n",
              "    30% {\n",
              "      border-color: transparent;\n",
              "      border-left-color: var(--fill-color);\n",
              "      border-top-color: var(--fill-color);\n",
              "      border-right-color: var(--fill-color);\n",
              "    }\n",
              "    40% {\n",
              "      border-color: transparent;\n",
              "      border-right-color: var(--fill-color);\n",
              "      border-top-color: var(--fill-color);\n",
              "    }\n",
              "    60% {\n",
              "      border-color: transparent;\n",
              "      border-right-color: var(--fill-color);\n",
              "    }\n",
              "    80% {\n",
              "      border-color: transparent;\n",
              "      border-right-color: var(--fill-color);\n",
              "      border-bottom-color: var(--fill-color);\n",
              "    }\n",
              "    90% {\n",
              "      border-color: transparent;\n",
              "      border-bottom-color: var(--fill-color);\n",
              "    }\n",
              "  }\n",
              "</style>\n",
              "\n",
              "      <script>\n",
              "        async function quickchart(key) {\n",
              "          const quickchartButtonEl =\n",
              "            document.querySelector('#' + key + ' button');\n",
              "          quickchartButtonEl.disabled = true;  // To prevent multiple clicks.\n",
              "          quickchartButtonEl.classList.add('colab-df-spinner');\n",
              "          try {\n",
              "            const charts = await google.colab.kernel.invokeFunction(\n",
              "                'suggestCharts', [key], {});\n",
              "          } catch (error) {\n",
              "            console.error('Error during call to suggestCharts:', error);\n",
              "          }\n",
              "          quickchartButtonEl.classList.remove('colab-df-spinner');\n",
              "          quickchartButtonEl.classList.add('colab-df-quickchart-complete');\n",
              "        }\n",
              "        (() => {\n",
              "          let quickchartButtonEl =\n",
              "            document.querySelector('#df-867a5bf6-a448-43d5-816f-d2a2a9d09edf button');\n",
              "          quickchartButtonEl.style.display =\n",
              "            google.colab.kernel.accessAllowed ? 'block' : 'none';\n",
              "        })();\n",
              "      </script>\n",
              "    </div>\n",
              "\n",
              "  <div id=\"id_546efd65-4daf-4842-8961-2048b72ebc11\">\n",
              "    <style>\n",
              "      .colab-df-generate {\n",
              "        background-color: #E8F0FE;\n",
              "        border: none;\n",
              "        border-radius: 50%;\n",
              "        cursor: pointer;\n",
              "        display: none;\n",
              "        fill: #1967D2;\n",
              "        height: 32px;\n",
              "        padding: 0 0 0 0;\n",
              "        width: 32px;\n",
              "      }\n",
              "\n",
              "      .colab-df-generate:hover {\n",
              "        background-color: #E2EBFA;\n",
              "        box-shadow: 0px 1px 2px rgba(60, 64, 67, 0.3), 0px 1px 3px 1px rgba(60, 64, 67, 0.15);\n",
              "        fill: #174EA6;\n",
              "      }\n",
              "\n",
              "      [theme=dark] .colab-df-generate {\n",
              "        background-color: #3B4455;\n",
              "        fill: #D2E3FC;\n",
              "      }\n",
              "\n",
              "      [theme=dark] .colab-df-generate:hover {\n",
              "        background-color: #434B5C;\n",
              "        box-shadow: 0px 1px 3px 1px rgba(0, 0, 0, 0.15);\n",
              "        filter: drop-shadow(0px 1px 2px rgba(0, 0, 0, 0.3));\n",
              "        fill: #FFFFFF;\n",
              "      }\n",
              "    </style>\n",
              "    <button class=\"colab-df-generate\" onclick=\"generateWithVariable('compared_police_eth')\"\n",
              "            title=\"Generate code using this dataframe.\"\n",
              "            style=\"display:none;\">\n",
              "\n",
              "  <svg xmlns=\"http://www.w3.org/2000/svg\" height=\"24px\"viewBox=\"0 0 24 24\"\n",
              "       width=\"24px\">\n",
              "    <path d=\"M7,19H8.4L18.45,9,17,7.55,7,17.6ZM5,21V16.75L18.45,3.32a2,2,0,0,1,2.83,0l1.4,1.43a1.91,1.91,0,0,1,.58,1.4,1.91,1.91,0,0,1-.58,1.4L9.25,21ZM18.45,9,17,7.55Zm-12,3A5.31,5.31,0,0,0,4.9,8.1,5.31,5.31,0,0,0,1,6.5,5.31,5.31,0,0,0,4.9,4.9,5.31,5.31,0,0,0,6.5,1,5.31,5.31,0,0,0,8.1,4.9,5.31,5.31,0,0,0,12,6.5,5.46,5.46,0,0,0,6.5,12Z\"/>\n",
              "  </svg>\n",
              "    </button>\n",
              "    <script>\n",
              "      (() => {\n",
              "      const buttonEl =\n",
              "        document.querySelector('#id_546efd65-4daf-4842-8961-2048b72ebc11 button.colab-df-generate');\n",
              "      buttonEl.style.display =\n",
              "        google.colab.kernel.accessAllowed ? 'block' : 'none';\n",
              "\n",
              "      buttonEl.onclick = () => {\n",
              "        google.colab.notebook.generateWithVariable('compared_police_eth');\n",
              "      }\n",
              "      })();\n",
              "    </script>\n",
              "  </div>\n",
              "\n",
              "    </div>\n",
              "  </div>\n"
            ],
            "application/vnd.google.colaboratory.intrinsic+json": {
              "type": "dataframe",
              "variable_name": "compared_police_eth",
              "summary": "{\n  \"name\": \"compared_police_eth\",\n  \"rows\": 4,\n  \"fields\": [\n    {\n      \"column\": \"Officer-defined ethnicity\",\n      \"properties\": {\n        \"dtype\": \"string\",\n        \"num_unique_values\": 4,\n        \"samples\": [\n          \"Black\",\n          \"White\",\n          \"Asian\"\n        ],\n        \"semantic_type\": \"\",\n        \"description\": \"\"\n      }\n    },\n    {\n      \"column\": \"Type\",\n      \"properties\": {\n        \"dtype\": \"number\",\n        \"std\": 79,\n        \"min\": 9,\n        \"max\": 199,\n        \"num_unique_values\": 4,\n        \"samples\": [\n          64,\n          199,\n          81\n        ],\n        \"semantic_type\": \"\",\n        \"description\": \"\"\n      }\n    }\n  ]\n}"
            }
          },
          "metadata": {},
          "execution_count": 41
        }
      ]
    },
    {
      "cell_type": "markdown",
      "metadata": {
        "id": "RmEHjZ9jJ-H3"
      },
      "source": [
        "## Bar chart (กราฟแท่ง) (กราฟผลไม้)"
      ]
    },
    {
      "cell_type": "code",
      "source": [
        "import matplotlib.pyplot as plt\n",
        "plt.bar(compared_police_eth.index, compared_police_eth['Type']);"
      ],
      "metadata": {
        "colab": {
          "base_uri": "https://localhost:8080/",
          "height": 431
        },
        "id": "sGC6QSz3voGJ",
        "outputId": "00ae6804-d9dd-42dd-e90b-0e0779eca1e4"
      },
      "execution_count": 42,
      "outputs": [
        {
          "output_type": "display_data",
          "data": {
            "text/plain": [
              "<Figure size 640x480 with 1 Axes>"
            ],
            "image/png": "[encoded data removed]"
          },
          "metadata": {}
        }
      ]
    },
    {
      "cell_type": "code",
      "source": [
        "plt.bar(compared_police_eth['Officer-defined ethnicity'], compared_police_eth['Type'], color=['yellow', 'brown', 'grey', 'pink'])\n",
        "plt.xlabel('Ethnicity')\n",
        "plt.ylabel('Cases')\n",
        "plt.title('Number of Cases open by polices with different ethnicities');"
      ],
      "metadata": {
        "colab": {
          "base_uri": "https://localhost:8080/",
          "height": 473
        },
        "id": "Tz9JNDm7vn_o",
        "outputId": "c91cfd43-ec34-4d23-faff-eabe57f6e2d6"
      },
      "execution_count": 43,
      "outputs": [
        {
          "output_type": "display_data",
          "data": {
            "text/plain": [
              "<Figure size 640x480 with 1 Axes>"
            ],
            "image/png": "[encoded data removed]"
          },
          "metadata": {}
        }
      ]
    },
    {
      "cell_type": "markdown",
      "source": [
        "# Stacked barchart"
      ],
      "metadata": {
        "id": "DcMi0JvH30YT"
      }
    },
    {
      "cell_type": "code",
      "source": [
        "data1 = pd.read_csv('/content/drive/MyDrive/data/2025-01/2025-01-bedfordshire-stop-and-search.csv')\n",
        "data2 = pd.read_csv('/content/drive/MyDrive/data/2025-02/2025-02-bedfordshire-stop-and-search.csv')\n",
        "data3 = pd.read_csv('/content/drive/MyDrive/data/2025-03/2025-03-bedfordshire-stop-and-search.csv')\n",
        "data4 = pd.read_csv('/content/drive/MyDrive/data/2025-04/2025-04-bedfordshire-stop-and-search.csv')"
      ],
      "metadata": {
        "id": "Kd8Y4EU4vn8d"
      },
      "execution_count": 44,
      "outputs": []
    },
    {
      "cell_type": "code",
      "source": [
        "compared_police_eth1 = data1.groupby('Officer-defined ethnicity')['Type'].count().reset_index().sort_values(by='Type')\n",
        "compared_police_eth2 = data2.groupby('Officer-defined ethnicity')['Type'].count().reset_index().sort_values(by='Type')\n",
        "compared_police_eth3 = data3.groupby('Officer-defined ethnicity')['Type'].count().reset_index().sort_values(by='Type')\n",
        "compared_police_eth4 = data4.groupby('Officer-defined ethnicity')['Type'].count().reset_index().sort_values(by='Type')"
      ],
      "metadata": {
        "id": "53KpwSDt4Zfi"
      },
      "execution_count": 45,
      "outputs": []
    },
    {
      "cell_type": "code",
      "source": [
        "plt.bar(compared_police_eth1['Officer-defined ethnicity'], compared_police_eth1['Type']\n",
        "        , color=[[107/255,108/255,109/255,0.4], [107/255,77/255,0,0.4], [249/255,249/255,0,0.4], [250/255,117/255,117/255,0.4]]\n",
        "        ,label='Jan')\n",
        "plt.bar(compared_police_eth2['Officer-defined ethnicity'], compared_police_eth2['Type']\n",
        "        , bottom = compared_police_eth1['Type']\n",
        "        , color=[[107/255,108/255,109/255,0.5], [107/255,77/255,0,0.5], [249/255,249/255,0,0.5], [250/255,117/255,117/255,0.5]]\n",
        "        , label='Feb')\n",
        "plt.bar(compared_police_eth3['Officer-defined ethnicity'], compared_police_eth3['Type']\n",
        "        , bottom = compared_police_eth1['Type'] + compared_police_eth2['Type']\n",
        "        , color=[[107/255,108/255,109/255,0.6], [107/255,77/255,0,0.6], [249/255,249/255,0,0.6], [250/255,117/255,117/255,0.6]]\n",
        "        , label='Mar')\n",
        "plt.bar(compared_police_eth4['Officer-defined ethnicity'], compared_police_eth4['Type']\n",
        "        , bottom = compared_police_eth1['Type'] + compared_police_eth2['Type']+ compared_police_eth3['Type']\n",
        "        , color=[[107/255,108/255,109/255,0.7], [107/255,77/255,0,0.7], [249/255,249/255,0,0.7], [250/255,117/255,117/255,0.7]]\n",
        "        , label='Apr')\n",
        "plt.xlabel('Ethnicity')\n",
        "plt.ylabel('Cases')\n",
        "plt.legend()\n",
        "plt.title('Number of Cases open by polices with different ethnicities over Jan-Apr 2025');"
      ],
      "metadata": {
        "colab": {
          "base_uri": "https://localhost:8080/",
          "height": 473
        },
        "id": "kmHYH3Bevn42",
        "outputId": "4771cb21-3a73-403a-9b74-8c6cfc17fc92"
      },
      "execution_count": 46,
      "outputs": [
        {
          "output_type": "display_data",
          "data": {
            "text/plain": [
              "<Figure size 640x480 with 1 Axes>"
            ],
            "image/png": "[encoded data removed]"
          },
          "metadata": {}
        }
      ]
    },
    {
      "cell_type": "code",
      "source": [
        "data1 = pd.read_csv('/content/drive/MyDrive/data/2025-01/2025-01-bedfordshire-stop-and-search.csv')\n",
        "data2 = pd.read_csv('/content/drive/MyDrive/data/2025-02/2025-02-bedfordshire-stop-and-search.csv')\n",
        "data3 = pd.read_csv('/content/drive/MyDrive/data/2025-03/2025-03-bedfordshire-stop-and-search.csv')\n",
        "data4 = pd.read_csv('/content/drive/MyDrive/data/2025-04/2025-04-bedfordshire-stop-and-search.csv')"
      ],
      "metadata": {
        "id": "ZDMNvOb-D30R"
      },
      "execution_count": 47,
      "outputs": []
    },
    {
      "cell_type": "code",
      "source": [
        "compared_police_eth1 = data1.groupby('Officer-defined ethnicity')['Type'].count().reset_index()\n",
        "compared_police_eth2 = data2.groupby('Officer-defined ethnicity')['Type'].count().reset_index()\n",
        "compared_police_eth3 = data3.groupby('Officer-defined ethnicity')['Type'].count().reset_index()\n",
        "compared_police_eth4 = data4.groupby('Officer-defined ethnicity')['Type'].count().reset_index()"
      ],
      "metadata": {
        "id": "Svaod6Zw3zQt"
      },
      "execution_count": 48,
      "outputs": []
    },
    {
      "cell_type": "code",
      "source": [
        "def swap_rows(tab, eth1='Asian', eth2='Other'):\n",
        "    # Find the indices of 'Asian' and 'Other'\n",
        "    asian_index = tab[tab['Officer-defined ethnicity'] == eth1].index[0]\n",
        "    other_index = tab[tab['Officer-defined ethnicity'] == eth2].index[0]\n",
        "\n",
        "    # Get the rows\n",
        "    asian_row = tab.loc[asian_index].copy()\n",
        "    other_row = tab.loc[other_index].copy()\n",
        "\n",
        "    # Swap the rows\n",
        "    tab.loc[asian_index] = other_row\n",
        "    tab.loc[other_index] = asian_row\n",
        "\n",
        "    return tab"
      ],
      "metadata": {
        "id": "aSj_0yDJCyun"
      },
      "execution_count": 49,
      "outputs": []
    },
    {
      "cell_type": "code",
      "source": [
        "compared_police_eth1 = swap_rows(compared_police_eth1)\n",
        "compared_police_eth2 = swap_rows(compared_police_eth2)\n",
        "compared_police_eth3 = swap_rows(compared_police_eth3)\n",
        "compared_police_eth4 = swap_rows(compared_police_eth4)"
      ],
      "metadata": {
        "id": "pcPk3T4X3zN6"
      },
      "execution_count": 50,
      "outputs": []
    },
    {
      "cell_type": "code",
      "source": [
        "plt.bar(compared_police_eth1['Officer-defined ethnicity'], compared_police_eth1['Type']\n",
        "        , color=[[107/255,108/255,109/255,0.4], [107/255,77/255,0,0.4], [249/255,249/255,0,0.4], [250/255,117/255,117/255,0.4]]\n",
        "        ,label='Jan')\n",
        "plt.bar(compared_police_eth2['Officer-defined ethnicity'], compared_police_eth2['Type']\n",
        "        , bottom = compared_police_eth1['Type']\n",
        "        , color=[[107/255,108/255,109/255,0.5], [107/255,77/255,0,0.5], [249/255,249/255,0,0.5], [250/255,117/255,117/255,0.5]]\n",
        "        , label='Feb')\n",
        "plt.bar(compared_police_eth3['Officer-defined ethnicity'], compared_police_eth3['Type']\n",
        "        , bottom = compared_police_eth1['Type'] + compared_police_eth2['Type']\n",
        "        , color=[[107/255,108/255,109/255,0.6], [107/255,77/255,0,0.6], [249/255,249/255,0,0.6], [250/255,117/255,117/255,0.6]]\n",
        "        , label='Mar')\n",
        "plt.bar(compared_police_eth4['Officer-defined ethnicity'], compared_police_eth4['Type']\n",
        "        , bottom = compared_police_eth1['Type'] + compared_police_eth2['Type']+ compared_police_eth3['Type']\n",
        "        , color=[[107/255,108/255,109/255,0.7], [107/255,77/255,0,0.7], [249/255,249/255,0,0.7], [250/255,117/255,117/255,0.7]]\n",
        "        , label='Apr')\n",
        "plt.xlabel('Ethnicity')\n",
        "plt.ylabel('Cases')\n",
        "plt.legend()\n",
        "plt.title('Number of Cases open by polices with different ethnicities over Jan-Apr 2025');"
      ],
      "metadata": {
        "colab": {
          "base_uri": "https://localhost:8080/",
          "height": 473
        },
        "id": "4SahdMUkD65I",
        "outputId": "2fe79f1b-2446-4898-f77c-328c9c186c7b"
      },
      "execution_count": 51,
      "outputs": [
        {
          "output_type": "display_data",
          "data": {
            "text/plain": [
              "<Figure size 640x480 with 1 Axes>"
            ],
            "image/png": "[encoded data removed]"
          },
          "metadata": {}
        }
      ]
    },
    {
      "cell_type": "code",
      "source": [
        "compared_police_eth = swap_rows(compared_police_eth1)\n",
        "compared_police_eth2 = swap_rows(compared_police_eth2)\n",
        "compared_police_eth3= swap_rows(compared_police_eth3)\n",
        "compared_police_eth4 = swap_rows(compared_police_eth4)\n",
        "\n"
      ],
      "metadata": {
        "id": "_RS7pz9YziJG"
      },
      "execution_count": 52,
      "outputs": []
    },
    {
      "cell_type": "code",
      "source": [
        "x = np.arange(len(compared_police_eth1))  # the label locations\n",
        "width = 0.35  # the width of the bars\n",
        "\n",
        "fig, ax = plt.subplots()\n",
        "rects1 = ax.bar(x - width/2, compared_police_eth1['Type'], width, label='Jan',color = '#fc9700')\n",
        "rects2 = ax.bar(x + width/2, compared_police_eth2['Type'], width, label='Feb',color = '#00B7EB')\n",
        "\n",
        "# Add some text for labels, title and custom x-axis tick labels, etc.\n",
        "ax.set_ylabel('Number of cases')\n",
        "ax.set_title('compare number of cases between different months')\n",
        "ax.set_xticks(x)\n",
        "ax.set_xticklabels(compared_police_eth1['Officer-defined ethnicity'])\n",
        "ax.legend();\n"
      ],
      "metadata": {
        "colab": {
          "base_uri": "https://localhost:8080/",
          "height": 452
        },
        "id": "CFqQ6GZF0v0p",
        "outputId": "a877cdc2-a79f-4a60-de97-b5daa27fd66d"
      },
      "execution_count": 53,
      "outputs": [
        {
          "output_type": "display_data",
          "data": {
            "text/plain": [
              "<Figure size 640x480 with 1 Axes>"
            ],
            "image/png": "[encoded data removed]"
          },
          "metadata": {}
        }
      ]
    },
    {
      "cell_type": "markdown",
      "source": [
        "# Quiz 13\n",
        "\n",
        "plot grouped barchart เปรียบเทียบจำนวน cases 3 เดือน ของแต่ละ เชื้อชาติ\n",
        "\n"
      ],
      "metadata": {
        "id": "bVO_xMe-g7aX"
      }
    },
    {
      "cell_type": "code",
      "source": [
        "x = np.arange(len(compared_police_eth1))  # the label locations\n",
        "width = 0.25  # ปรับให้เล็กลงนิดหน่อยเพราะมี 3 bar\n",
        "\n",
        "fig, ax = plt.subplots()\n",
        "\n",
        "rects1 = ax.bar(x - width, compared_police_eth1['Type'], width, label='Jan', color='#fc9700')\n",
        "rects2 = ax.bar(x, compared_police_eth2['Type'], width, label='Feb', color='#00B7EB')\n",
        "rects3 = ax.bar(x + width, compared_police_eth3['Type'], width, label='Mar', color='#7CFC00')\n",
        "\n",
        "# Add labels, title, ticks\n",
        "ax.set_ylabel('Number of cases')\n",
        "ax.set_title('Compare number of cases between different months')\n",
        "ax.set_xticks(x)\n",
        "ax.set_xticklabels(compared_police_eth1['Officer-defined ethnicity'])\n",
        "ax.legend()\n",
        "\n",
        "plt.show()\n"
      ],
      "metadata": {
        "colab": {
          "base_uri": "https://localhost:8080/",
          "height": 452
        },
        "id": "UIdD8Jva2fdi",
        "outputId": "4503d7eb-abb3-4e32-99b1-475aae8ac940"
      },
      "execution_count": 54,
      "outputs": [
        {
          "output_type": "display_data",
          "data": {
            "text/plain": [
              "<Figure size 640x480 with 1 Axes>"
            ],
            "image/png": "[encoded data removed]"
          },
          "metadata": {}
        }
      ]
    },
    {
      "cell_type": "code",
      "source": [
        "import squarify\n",
        "import matplotlib.pyplot as plt\n",
        "\n",
        "# นับจำนวน\n",
        "object_of_search_counts = data['Object of search'].value_counts()\n",
        "\n",
        "# เลือก colormap ที่สีชัดเจน\n",
        "cmap = plt.cm.Set3  # หรือ plt.cm.tab20\n",
        "colors = [cmap(i / len(object_of_search_counts)) for i in range(len(object_of_search_counts))]\n",
        "\n",
        "plt.figure(figsize=(10, 8))\n",
        "squarify.plot(\n",
        "    sizes=object_of_search_counts,\n",
        "    label=object_of_search_counts.index,\n",
        "    alpha=0.9,\n",
        "    color=colors\n",
        ")\n",
        "plt.axis('off')\n",
        "plt.show()\n"
      ],
      "metadata": {
        "colab": {
          "base_uri": "https://localhost:8080/",
          "height": 653
        },
        "id": "Sjf5w0290vvM",
        "outputId": "e7ae6f8d-b500-4be5-98ee-ff5fcbd01b48"
      },
      "execution_count": 55,
      "outputs": [
        {
          "output_type": "display_data",
          "data": {
            "text/plain": [
              "<Figure size 1000x800 with 1 Axes>"
            ],
            "image/png": "[encoded data removed]"
          },
          "metadata": {}
        }
      ]
    },
    {
      "cell_type": "markdown",
      "source": [
        "## Quiz 14"
      ],
      "metadata": {
        "id": "aiM8VW2b4a8h"
      }
    },
    {
      "cell_type": "code",
      "source": [
        "import pandas as pd\n",
        "import numpy as np\n",
        "import matplotlib.pyplot as plt\n",
        "\n",
        "# โหลดข้อมูลรวมหลายเดือน\n",
        "paths = [\n",
        "    '/content/drive/MyDrive/data/2025-01/2025-01-city-of-london-stop-and-search.csv',\n",
        "    '/content/drive/MyDrive/data/2025-02/2025-02-city-of-london-stop-and-search.csv',\n",
        "    '/content/drive/MyDrive/data/2025-03/2025-03-city-of-london-street.csv',\n",
        "    '/content/drive/MyDrive/data/2025-04/2025-04-city-of-london-stop-and-search.csv',\n",
        "]\n",
        "df = pd.concat([pd.read_csv(p) for p in paths], ignore_index=True)\n",
        "\n",
        "# ใช้เฉพาะคอลัมน์ที่ต้องการ\n",
        "df = df.dropna(subset=['Officer-defined ethnicity', 'Gender'])\n",
        "\n",
        "# มาตรฐานเพศ\n",
        "def norm_gender(x):\n",
        "    x = str(x).strip().lower()\n",
        "    if x in ['male','m']: return 'Male'\n",
        "    if x in ['female','f']: return 'Female'\n",
        "    if x in ['other','non-binary','non binary']: return 'Other'\n",
        "    return 'Unknown'\n",
        "df['Gender_norm'] = df['Gender'].apply(norm_gender)\n",
        "\n",
        "# ตารางนับ\n",
        "pivot = df.pivot_table(\n",
        "    index='Officer-defined ethnicity',\n",
        "    columns='Gender_norm',\n",
        "    values='Gender',\n",
        "    aggfunc='count',\n",
        "    fill_value=0\n",
        ")\n",
        "\n",
        "# --- เปลี่ยนเป็นสัดส่วนต่อเชื้อชาติ (%)\n",
        "pivot_pct = pivot.div(pivot.sum(axis=1), axis=0) * 100\n",
        "\n",
        "# ----- Radar Chart -----\n",
        "categories = list(pivot_pct.index)   # รอบวง = Ethnicity\n",
        "N = len(categories)\n",
        "angles = [n / float(N) * 2*np.pi for n in range(N)]\n",
        "angles += angles[:1]  # ปิดวง\n",
        "\n",
        "plt.figure(figsize=(8,8), dpi=120)\n",
        "\n",
        "for gender in pivot_pct.columns:\n",
        "    values = pivot_pct[gender].tolist()\n",
        "    values += values[:1]\n",
        "    plt.polar(angles, values, linewidth=2, label=gender)\n",
        "    plt.fill(angles, values, alpha=0.15)\n",
        "\n",
        "plt.xticks(angles[:-1], categories, fontsize=9, rotation=20)\n",
        "plt.yticks([25, 50, 75, 100], fontsize=8)\n",
        "plt.ylim(0, 100)\n",
        "\n",
        "plt.title(\"Radar Chart: สัดส่วนเพศที่ถูกเรียกตรวจ ต่อเชื้อชาติตำรวจ (%)\", fontsize=14, pad=20)\n",
        "plt.legend(loc='upper right', bbox_to_anchor=(1.2, 1.05))\n",
        "plt.tight_layout()\n",
        "plt.show()"
      ],
      "metadata": {
        "colab": {
          "base_uri": "https://localhost:8080/",
          "height": 881
        },
        "id": "JCjWb39E4BJ4",
        "outputId": "a503614f-fe6d-412f-fee6-40e902d522e8"
      },
      "execution_count": 73,
      "outputs": [
        {
          "output_type": "display_data",
          "data": {
            "text/plain": [
              "<Figure size 960x960 with 1 Axes>"
            ],
            "image/png": "[encoded data removed]"
          },
          "metadata": {}
        }
      ]
    },
    {
      "cell_type": "markdown",
      "source": [
        "## Plot stacked barchart ด้วย matplotlib"
      ],
      "metadata": {
        "id": "Xsfy1fYq7ckL"
      }
    },
    {
      "cell_type": "code",
      "source": [
        "region_brand_sales = data.groupby(['Region', 'Brand'])['Sales'].sum().unstack()\n",
        "region_brand_sales"
      ],
      "metadata": {
        "id": "JWYuedfo7pIm"
      },
      "execution_count": null,
      "outputs": []
    },
    {
      "cell_type": "code",
      "source": [
        "region_brand_sales['BrandA'].values"
      ],
      "metadata": {
        "id": "3LH3d2P-8xnr"
      },
      "execution_count": null,
      "outputs": []
    },
    {
      "cell_type": "code",
      "source": [
        "region_brand_sales.index"
      ],
      "metadata": {
        "id": "Ot-L_FrK9QBB"
      },
      "execution_count": null,
      "outputs": []
    },
    {
      "cell_type": "markdown",
      "source": [
        "## plot ส่วนแรก"
      ],
      "metadata": {
        "id": "rsADD8Yj9W2f"
      }
    },
    {
      "cell_type": "code",
      "source": [
        "import matplotlib.pyplot as plt\n",
        "\n",
        "width = 0.35       # the width of the bars: can also be len(x) sequence\n",
        "\n",
        "fig, ax = plt.subplots()\n",
        "\n",
        "ax.bar(region_brand_sales.index, region_brand_sales['BrandA'].values, width, label='BrandA',color = '#fc9700')\n",
        "#ax.bar(labels, b4midnight, width, bottom=b4lunch, label='before midnight',color = '#19038a')\n",
        "\n",
        "ax.set_ylabel('Total sales')\n",
        "ax.set_xlabel('Region')\n",
        "ax.set_title('Total sales by region and brand')\n",
        "ax.legend()\n",
        "\n",
        "plt.show()"
      ],
      "metadata": {
        "id": "VJpDtb8G5P5j"
      },
      "execution_count": null,
      "outputs": []
    },
    {
      "cell_type": "markdown",
      "source": [
        "## plot ส่วนที่ 2"
      ],
      "metadata": {
        "id": "xjXDyn329aup"
      }
    },
    {
      "cell_type": "code",
      "source": [
        "import matplotlib.pyplot as plt\n",
        "\n",
        "width = 0.35       # the width of the bars: can also be len(x) sequence\n",
        "\n",
        "fig, ax = plt.subplots()\n",
        "\n",
        "ax.bar(region_brand_sales.index, region_brand_sales['BrandA'].values, width, label='BrandA',color = '#fc9700')\n",
        "ax.bar(region_brand_sales.index, region_brand_sales['BrandB'].values, width, bottom=region_brand_sales['BrandA'].values, label='BrandB',color = '#19038a')\n",
        "\n",
        "ax.set_ylabel('Total sales')\n",
        "ax.set_xlabel('Region')\n",
        "ax.set_title('Total sales by region and brand')\n",
        "ax.legend()\n",
        "\n",
        "plt.show()"
      ],
      "metadata": {
        "id": "qVzCW4DC7m1s"
      },
      "execution_count": null,
      "outputs": []
    },
    {
      "cell_type": "markdown",
      "source": [
        "## plot ส่วนที่ 3"
      ],
      "metadata": {
        "id": "FuNhhlz4-JJx"
      }
    },
    {
      "cell_type": "code",
      "source": [
        "import matplotlib.pyplot as plt\n",
        "\n",
        "width = 0.35       # the width of the bars: can also be len(x) sequence\n",
        "\n",
        "fig, ax = plt.subplots()\n",
        "\n",
        "ax.bar(region_brand_sales.index, region_brand_sales['BrandA'].values, width, label='BrandA',color = '#fc9700')\n",
        "ax.bar(region_brand_sales.index, region_brand_sales['BrandB'].values, width,\n",
        "       bottom=region_brand_sales['BrandA'].values, label='BrandB',color = '#19038a')\n",
        "ax.bar(region_brand_sales.index, region_brand_sales['BrandC'].values, width,\n",
        "       bottom=region_brand_sales['BrandA'].values + region_brand_sales['BrandB'].values, label='BrandC',color = '#FF5733')\n",
        "\n",
        "\n",
        "ax.set_ylabel('Total sales')\n",
        "ax.set_xlabel('Region')\n",
        "ax.set_title('Total sales by region and brand')\n",
        "ax.legend()\n",
        "\n",
        "plt.show()"
      ],
      "metadata": {
        "id": "pEFNTBhZ-MgI"
      },
      "execution_count": null,
      "outputs": []
    },
    {
      "cell_type": "markdown",
      "source": [
        "# Grouped bar chart (เปรียบเทียบในกลุ่ม)"
      ],
      "metadata": {
        "id": "Lo9LoQl8_sd9"
      }
    },
    {
      "cell_type": "code",
      "source": [
        "# prompt: plot grouped bar chart ของแต่ละ region ในปี 2021 เพื่อเปรียบเทียบ sales ของแต่ละ price category ย้าย legend ออกไปข้างนอกกราฟ ปรับขนาด plot ให้เล็กลง 30%\n",
        "\n",
        "import matplotlib.pyplot as plt\n",
        "# Group data by region, year, and price category, then sum sales\n",
        "region_year_price_category_sales = data[data['Year'] == 2021].groupby(['Region', 'Price Category'])['Sales'].sum().unstack()\n",
        "\n",
        "# Create the grouped bar chart\n",
        "ax = region_year_price_category_sales.plot(kind='bar', figsize=(8, 6), width=0.8)\n",
        "\n",
        "# Add labels and title\n",
        "plt.xlabel('Region')\n",
        "plt.ylabel('Total Sales')\n",
        "plt.title('Total Sales by Region and Price Category in 2021')\n",
        "\n",
        "# Move legend outside the plot\n",
        "plt.legend(loc='center left', bbox_to_anchor=(1, 0.5))\n",
        "\n",
        "# Adjust plot size\n",
        "plt.gcf().set_size_inches(plt.gcf().get_size_inches() * 0.7)\n",
        "\n",
        "# Show the plot\n",
        "plt.show()\n"
      ],
      "metadata": {
        "id": "lfSDCK737mr_"
      },
      "execution_count": null,
      "outputs": []
    },
    {
      "cell_type": "markdown",
      "source": [
        "## Plot grouped bar chart ของ หนังอินเดีย โดย แยกกลุ่มตามประเภทหนัง และเปรียบเทียบ rating จาก ความยาวของหนัง"
      ],
      "metadata": {
        "id": "NrnFLVbhCk3L"
      }
    },
    {
      "cell_type": "code",
      "source": [
        "data_india = pd.read_csv(os.path.join(path,'IMDb Movies India.csv'), encoding='latin-1')\n",
        "data_india.head()"
      ],
      "metadata": {
        "id": "_B_7gsgN7mob"
      },
      "execution_count": null,
      "outputs": []
    },
    {
      "cell_type": "code",
      "source": [
        "data_india = data_india.dropna(subset=['Rating','Duration','Genre'])\n",
        "data_india = data_india[['Rating','Duration','Genre']]\n",
        "data_india"
      ],
      "metadata": {
        "id": "1LPmTiIrDjS1"
      },
      "execution_count": null,
      "outputs": []
    },
    {
      "cell_type": "code",
      "source": [
        "# prompt: แปลงค่าใน column duration เป็น int โดยลบ min ออกและ เปลี่ยนชนิดข้อมูลเป็น integer\n",
        "\n",
        "# Remove \" min\" from the 'Duration' column and convert to integer\n",
        "data_india['Duration'] = data_india['Duration'].str.replace(' min', '').astype(int)\n"
      ],
      "metadata": {
        "id": "95xMZ-HzEfR1"
      },
      "execution_count": null,
      "outputs": []
    },
    {
      "cell_type": "code",
      "source": [
        "data_india.describe()"
      ],
      "metadata": {
        "id": "LB4Spm-lDjQM"
      },
      "execution_count": null,
      "outputs": []
    },
    {
      "cell_type": "code",
      "source": [
        "# prompt: แยกตารางออกเป็นตารางย่อย 5 ตารางสำหรับ genre: drama, action, romance, horror, musical\n",
        "\n",
        "# Create a dictionary to store the tables\n",
        "genre_tables = {}\n",
        "\n",
        "# Define the genres to extract\n",
        "genres = ['Drama', 'Action', 'Romance', 'Horror', 'Musical']\n",
        "\n",
        "# Iterate through the genres and create separate tables\n",
        "for genre in genres:\n",
        "  genre_tables[genre] = data_india[data_india['Genre'] == genre].copy()\n",
        "\n",
        "# Access the tables using the genre as the key\n",
        "# Example:\n",
        "# drama_table = genre_tables['Drama']\n"
      ],
      "metadata": {
        "id": "WM8xWFaHDjNG"
      },
      "execution_count": null,
      "outputs": []
    },
    {
      "cell_type": "code",
      "source": [
        "all_table = pd.concat(genre_tables.values())\n",
        "all_table"
      ],
      "metadata": {
        "id": "wPRzSE63DjJ9"
      },
      "execution_count": null,
      "outputs": []
    },
    {
      "cell_type": "code",
      "source": [
        "# prompt: แบ่ง duration ออกเป็น short, medium, long โดย short สั้นกว่า 60 medium 60-90 ที่เหลือ เป็น long\n",
        "\n",
        "# Function to categorize duration\n",
        "def categorize_duration(duration):\n",
        "  if duration < 60:\n",
        "    return 'short'\n",
        "  elif 60 <= duration <= 90:\n",
        "    return 'medium'\n",
        "  else:\n",
        "    return 'long'\n",
        "\n",
        "# Apply the function to create a new column\n",
        "all_table['Duration Category'] = all_table['Duration'].apply(categorize_duration)\n",
        "all_table"
      ],
      "metadata": {
        "id": "nJ8WtQCFDjHJ"
      },
      "execution_count": null,
      "outputs": []
    },
    {
      "cell_type": "code",
      "source": [
        "all_table.groupby(['Genre','Duration Category'])['Rating'].mean()"
      ],
      "metadata": {
        "id": "NXLjuBsCF3VS"
      },
      "execution_count": null,
      "outputs": []
    },
    {
      "cell_type": "code",
      "source": [
        "india_bar_data = all_table.groupby(['Genre','Duration Category'])['Rating'].mean().unstack()"
      ],
      "metadata": {
        "id": "FsrGLgf5F3R5"
      },
      "execution_count": null,
      "outputs": []
    },
    {
      "cell_type": "code",
      "source": [
        "india_bar_data"
      ],
      "metadata": {
        "id": "-syL4DYsF3O3"
      },
      "execution_count": null,
      "outputs": []
    },
    {
      "cell_type": "code",
      "source": [
        "ax = india_bar_data.plot(kind='bar', figsize=(8, 6), width=0.8)\n",
        "\n",
        "# Add labels and title\n",
        "plt.xlabel('Genre')\n",
        "plt.ylabel('Rating')\n",
        "plt.title('หนังอินเดีย โดย แยกกลุ่มตามประเภทหนัง และเปรียบเทียบ rating จาก ความยาวของหนัง')\n",
        "\n",
        "# Move legend outside the plot\n",
        "plt.legend(loc='center left', bbox_to_anchor=(1, 0.5))\n",
        "\n",
        "# Adjust plot size\n",
        "plt.gcf().set_size_inches(plt.gcf().get_size_inches() * 0.7)\n",
        "\n",
        "# Show the plot\n",
        "plt.show()"
      ],
      "metadata": {
        "id": "woWbyhkmF3L5"
      },
      "execution_count": null,
      "outputs": []
    },
    {
      "cell_type": "code",
      "source": [],
      "metadata": {
        "id": "bxw4WngaF29k"
      },
      "execution_count": null,
      "outputs": []
    },
    {
      "cell_type": "code",
      "source": [],
      "metadata": {
        "id": "r_clT-W-F26t"
      },
      "execution_count": null,
      "outputs": []
    },
    {
      "cell_type": "code",
      "source": [],
      "metadata": {
        "id": "Y8MNi_pIF23k"
      },
      "execution_count": null,
      "outputs": []
    },
    {
      "cell_type": "code",
      "metadata": {
        "id": "FpPZBO64Jcql"
      },
      "source": [
        "plt.bar([1,2,3,4,5,6,7],[data[data['search_timestamp'].dt.dayofweek == 0].shape[0],\n",
        "                         data[data['search_timestamp'].dt.dayofweek == 1].shape[0],\n",
        "                         data[data['search_timestamp'].dt.dayofweek == 2].shape[0],\n",
        "                         data[data['search_timestamp'].dt.dayofweek == 3].shape[0],\n",
        "                         data[data['search_timestamp'].dt.dayofweek == 4].shape[0],\n",
        "                         data[data['search_timestamp'].dt.dayofweek == 5].shape[0],\n",
        "                         data[data['search_timestamp'].dt.dayofweek == 6].shape[0]\n",
        "                         ],tick_label=['Mon','Tue','Wed','Thu','Fri','Sat','Sun'])\n",
        "plt.xlabel('Days')\n",
        "plt.ylabel('Number of Requests')\n",
        "plt.title('ปริมาณคนเข้าใช้ Wongnai.com ในแต่ละวัน');"
      ],
      "execution_count": null,
      "outputs": []
    },
    {
      "cell_type": "code",
      "metadata": {
        "id": "O4-TUkXnXnKd"
      },
      "source": [
        "plt.bar([1,2,3,4,5,6,7],[data[data['search_timestamp'].dt.dayofweek == 0].shape[0],\n",
        "                         data[data['search_timestamp'].dt.dayofweek == 1].shape[0],\n",
        "                         data[data['search_timestamp'].dt.dayofweek == 2].shape[0],\n",
        "                         data[data['search_timestamp'].dt.dayofweek == 3].shape[0],\n",
        "                         data[data['search_timestamp'].dt.dayofweek == 4].shape[0],\n",
        "                         data[data['search_timestamp'].dt.dayofweek == 5].shape[0],\n",
        "                         data[data['search_timestamp'].dt.dayofweek == 6].shape[0]\n",
        "                         ],tick_label=['Mon','Tue','Wed','Thu','Fri','Sat','Sun'])\n",
        "plt.xlabel('Days')\n",
        "plt.ylabel('Number of Requests')"
      ],
      "execution_count": null,
      "outputs": []
    },
    {
      "cell_type": "markdown",
      "metadata": {
        "id": "ZdqpiHzwYT9J"
      },
      "source": [
        "## Grouped bar chart\n",
        "\n",
        "https://matplotlib.org/stable/gallery/lines_bars_and_markers/barchart.html#sphx-glr-gallery-lines-bars-and-markers-barchart-py"
      ]
    },
    {
      "cell_type": "markdown",
      "metadata": {
        "id": "gCJA15vCYbVE"
      },
      "source": [
        "แสดงปริมาณคนเข้าเว๊ปในแต่ละวัน โดยเปรียบเทียบช่วงเวลา 11:00-12:00 กับ 23:00-24:00"
      ]
    },
    {
      "cell_type": "code",
      "metadata": {
        "id": "Ug2a8uLtY5ZS"
      },
      "source": [
        "data[(data['search_timestamp'].dt.dayofweek == 0)\n",
        "& (data['search_timestamp'].dt.time < time(hour=12))\n",
        "& (data['search_timestamp'].dt.time >= time(hour=11))].shape[0]  # monday 11:00-12:00"
      ],
      "execution_count": null,
      "outputs": []
    },
    {
      "cell_type": "code",
      "metadata": {
        "id": "9i0rtI4IS-90"
      },
      "source": [
        "b4lunch = [data[(data['search_timestamp'].dt.dayofweek == 0)&(data['search_timestamp'].dt.time < time(hour=12))&(data['search_timestamp'].dt.time >= time(hour=11))].shape[0],\n",
        "           data[(data['search_timestamp'].dt.dayofweek == 1)&(data['search_timestamp'].dt.time < time(hour=12))&(data['search_timestamp'].dt.time >= time(hour=11))].shape[0],\n",
        "           data[(data['search_timestamp'].dt.dayofweek == 2)&(data['search_timestamp'].dt.time < time(hour=12))&(data['search_timestamp'].dt.time >= time(hour=11))].shape[0],\n",
        "           data[(data['search_timestamp'].dt.dayofweek == 3)&(data['search_timestamp'].dt.time < time(hour=12))&(data['search_timestamp'].dt.time >= time(hour=11))].shape[0],\n",
        "           data[(data['search_timestamp'].dt.dayofweek == 4)&(data['search_timestamp'].dt.time < time(hour=12))&(data['search_timestamp'].dt.time >= time(hour=11))].shape[0],\n",
        "           data[(data['search_timestamp'].dt.dayofweek == 5)&(data['search_timestamp'].dt.time < time(hour=12))&(data['search_timestamp'].dt.time >= time(hour=11))].shape[0],\n",
        "           data[(data['search_timestamp'].dt.dayofweek == 6)&(data['search_timestamp'].dt.time < time(hour=12))&(data['search_timestamp'].dt.time >= time(hour=11))].shape[0]\n",
        "                         ]"
      ],
      "execution_count": null,
      "outputs": []
    },
    {
      "cell_type": "code",
      "metadata": {
        "id": "JPfMzqWHbQZY"
      },
      "source": [
        "b4lunch"
      ],
      "execution_count": null,
      "outputs": []
    },
    {
      "cell_type": "code",
      "metadata": {
        "id": "g45xxQc-bSLs"
      },
      "source": [
        "data[(data['search_timestamp'].dt.dayofweek == 0)&(data['search_timestamp'].dt.time >= time(hour=23))].shape[0]"
      ],
      "execution_count": null,
      "outputs": []
    },
    {
      "cell_type": "code",
      "metadata": {
        "id": "vLgwni8WaZhk"
      },
      "source": [
        "b4midnight = [data[(data['search_timestamp'].dt.dayofweek == 0)&(data['search_timestamp'].dt.time >= time(hour=23))].shape[0],\n",
        "           data[(data['search_timestamp'].dt.dayofweek == 1)&(data['search_timestamp'].dt.time >= time(hour=23))].shape[0],\n",
        "           data[(data['search_timestamp'].dt.dayofweek == 2)&(data['search_timestamp'].dt.time >= time(hour=23))].shape[0],\n",
        "           data[(data['search_timestamp'].dt.dayofweek == 3)&(data['search_timestamp'].dt.time >= time(hour=23))].shape[0],\n",
        "           data[(data['search_timestamp'].dt.dayofweek == 4)&(data['search_timestamp'].dt.time >= time(hour=23))].shape[0],\n",
        "           data[(data['search_timestamp'].dt.dayofweek == 5)&(data['search_timestamp'].dt.time >= time(hour=23))].shape[0],\n",
        "           data[(data['search_timestamp'].dt.dayofweek == 6)&(data['search_timestamp'].dt.time >= time(hour=23))].shape[0]\n",
        "                         ]\n",
        "b4midnight"
      ],
      "execution_count": null,
      "outputs": []
    },
    {
      "cell_type": "code",
      "metadata": {
        "id": "a2NPlZQabrkc"
      },
      "source": [
        "labels = ['Mon','Tue','Wed','Thu','Fri','Sat','Sun']"
      ],
      "execution_count": null,
      "outputs": []
    },
    {
      "cell_type": "code",
      "metadata": {
        "id": "s8qX942odYZq"
      },
      "source": [
        "import numpy as np"
      ],
      "execution_count": null,
      "outputs": []
    },
    {
      "cell_type": "code",
      "metadata": {
        "id": "p2YPAeURcpTQ"
      },
      "source": [
        "x = np.arange(len(labels))  # the label locations\n",
        "width = 0.35  # the width of the bars\n",
        "\n",
        "fig, ax = plt.subplots()\n",
        "rects1 = ax.bar(x - width/2, b4lunch, width, label='lunch time',color = '#fc9700')\n",
        "rects2 = ax.bar(x + width/2, b4midnight, width, label='midnight',color = '#19038a')\n",
        "\n",
        "# Add some text for labels, title and custom x-axis tick labels, etc.\n",
        "ax.set_ylabel('Number of requests')\n",
        "ax.set_title('ปริมาณคนเข้าใช้ Wongnai.com ในแต่ละวัน เปรียบเทียบ 2 ช่วงเวลา')\n",
        "ax.set_xticks(x)\n",
        "ax.set_xticklabels(labels)\n",
        "ax.legend();"
      ],
      "execution_count": null,
      "outputs": []
    },
    {
      "cell_type": "markdown",
      "metadata": {
        "id": "0FT67xj0AM-R"
      },
      "source": [
        "## Stacked bar chart"
      ]
    },
    {
      "cell_type": "code",
      "metadata": {
        "id": "TRPRCL1SdWJR"
      },
      "source": [
        "import matplotlib.pyplot as plt\n",
        "\n",
        "width = 0.35       # the width of the bars: can also be len(x) sequence\n",
        "\n",
        "fig, ax = plt.subplots()\n",
        "\n",
        "ax.bar(labels, b4lunch, width, label='before lunch',color = '#fc9700')\n",
        "ax.bar(labels, b4midnight, width, bottom=b4lunch, label='before midnight',color = '#19038a')\n",
        "\n",
        "ax.set_ylabel('number of requests')\n",
        "ax.set_title('ปริมาณคนเข้าใช้ Wongnai.com ในแต่ละวัน โดยคิดจาก 2 ช่วงเวลา')\n",
        "ax.legend()\n",
        "\n",
        "plt.show()"
      ],
      "execution_count": null,
      "outputs": []
    },
    {
      "cell_type": "code",
      "metadata": {
        "id": "WMcHnIJiBQ9X"
      },
      "source": [
        "width = 0.35       # the width of the bars: can also be len(x) sequence\n",
        "\n",
        "fig, ax = plt.subplots()\n",
        "\n",
        "ax.barh(labels, b4lunch, width, label='before lunch',color = '#fc9700')\n",
        "ax.barh(labels, b4midnight, width, left=b4lunch, label='before midnight',color = '#19038a')\n",
        "\n",
        "ax.set_xlabel('number of requests')\n",
        "ax.set_title('ปริมาณคนเข้าใช้ Wongnai.com ในแต่ละวัน โดยคิดจาก 2 ช่วงเวลา')\n",
        "ax.legend()\n",
        "\n",
        "plt.show()"
      ],
      "execution_count": null,
      "outputs": []
    },
    {
      "cell_type": "markdown",
      "metadata": {
        "id": "d7nUYPWYDbRA"
      },
      "source": [
        "## [เช็คชื่อ] โดยให้วาด Bar chart ที่เปรียบเทียบปริมาณคนใช้งาน Wongnai.com สองช่วงเวลา โดยให้กราฟแสดงสัดส่วนของปริมาณคนใช้งานในแต่ละวันด้วย"
      ]
    },
    {
      "cell_type": "code",
      "metadata": {
        "id": "6B4iAlFIC0GR"
      },
      "source": [],
      "execution_count": null,
      "outputs": []
    },
    {
      "cell_type": "markdown",
      "metadata": {
        "id": "yaMrjMVGIcNO"
      },
      "source": [
        "## Histogram"
      ]
    },
    {
      "cell_type": "markdown",
      "metadata": {
        "id": "vYh1K6IeJd0M"
      },
      "source": [
        "## กราฟแสดงความถี่ของข้อมูล"
      ]
    },
    {
      "cell_type": "markdown",
      "metadata": {
        "id": "k0trnakOJmIR"
      },
      "source": [
        "ตัวอย่างข้อมูลที่ random มาจาก normal distribution ที่มี mean = 100  และ stdev = 15"
      ]
    },
    {
      "cell_type": "code",
      "metadata": {
        "id": "PkN0tRqMIh2n"
      },
      "source": [
        "import numpy as np\n",
        "from matplotlib import pyplot as plt\n",
        "\n",
        "np.random.seed(2024)\n",
        "\n",
        "mu, sigma = 100, 15\n",
        "X = mu + sigma * np.random.randn(10000)\n",
        "\n",
        "plt.hist(X, 50, facecolor = 'violet', alpha = 0.75)"
      ],
      "execution_count": null,
      "outputs": []
    },
    {
      "cell_type": "markdown",
      "source": [
        "## ทดสอบกับข้อมูลหนังอินเดีย"
      ],
      "metadata": {
        "id": "oxuaW2XR2SjX"
      }
    },
    {
      "cell_type": "code",
      "source": [
        "data_india = pd.read_csv(os.path.join(path,'IMDb Movies India.csv'), encoding='latin-1')\n",
        "data_india.head()"
      ],
      "metadata": {
        "id": "CYxG_NDB2QlV"
      },
      "execution_count": null,
      "outputs": []
    },
    {
      "cell_type": "code",
      "source": [
        "len(set(data_india.dropna(subset=['Genre'])['Genre']))"
      ],
      "metadata": {
        "id": "GQ7FAS-f4GyG"
      },
      "execution_count": null,
      "outputs": []
    },
    {
      "cell_type": "code",
      "source": [
        "plt.hist(data_india.dropna(subset=['Genre'])['Genre'],bins = len(set(data_india.dropna(subset=['Genre'])['Genre'])))\n",
        "plt.xticks(rotation='vertical');"
      ],
      "metadata": {
        "id": "Z6a91Ncf2QiU"
      },
      "execution_count": null,
      "outputs": []
    },
    {
      "cell_type": "code",
      "source": [
        "data_india['Genre'].str.split(',', expand=True)"
      ],
      "metadata": {
        "id": "S_IjgVIY52b1"
      },
      "execution_count": null,
      "outputs": []
    },
    {
      "cell_type": "code",
      "source": [
        "data_india = data_india.dropna(subset=['Genre'])"
      ],
      "metadata": {
        "id": "lcbHhc-17Ynw"
      },
      "execution_count": null,
      "outputs": []
    },
    {
      "cell_type": "code",
      "source": [
        "# prompt: split value in column genre by ',' and make more column for each of those\n",
        "\n",
        "import pandas as pd\n",
        "# Split the 'Genre' column by ',' and create new columns\n",
        "genre_split = data_india['Genre'].str.split(',', expand=True)\n",
        "\n",
        "# Rename the new columns\n",
        "genre_split.columns = ['Genre1', 'Genre2', 'Genre3']\n",
        "\n",
        "# Concatenate the new columns with the original DataFrame\n",
        "data_india = pd.concat([data_india, genre_split], axis=1)\n",
        "\n",
        "# Display the updated DataFrame\n",
        "data_india.head()\n"
      ],
      "metadata": {
        "id": "q9Fmm0wX5CdE"
      },
      "execution_count": null,
      "outputs": []
    },
    {
      "cell_type": "code",
      "source": [
        "# prompt: delete space in the value in Genre1 Genre2 Genre3\n",
        "\n",
        "for col in ['Genre1', 'Genre2', 'Genre3']:\n",
        "  data_india[col] = data_india[col].str.strip() if data_india[col].dtype == 'object' else data_india[col]\n"
      ],
      "metadata": {
        "id": "8t1kp9Ta_Dov"
      },
      "execution_count": null,
      "outputs": []
    },
    {
      "cell_type": "code",
      "source": [
        "allGenre = list(data_india['Genre1'])+list(data_india['Genre2'])+list(data_india['Genre3'])"
      ],
      "metadata": {
        "id": "ZY7kcRL42Qfa"
      },
      "execution_count": null,
      "outputs": []
    },
    {
      "cell_type": "code",
      "source": [
        "len(set(allGenre))"
      ],
      "metadata": {
        "id": "UqTv0O1u2QcT"
      },
      "execution_count": null,
      "outputs": []
    },
    {
      "cell_type": "code",
      "source": [
        "allGenre[-20:]"
      ],
      "metadata": {
        "id": "AHvmBwGG73XM"
      },
      "execution_count": null,
      "outputs": []
    },
    {
      "cell_type": "code",
      "source": [
        "allGenre[:13]"
      ],
      "metadata": {
        "id": "XC2ecJRk-AxQ"
      },
      "execution_count": null,
      "outputs": []
    },
    {
      "cell_type": "code",
      "source": [
        "# prompt: delete all None from the allGenre list\n",
        "\n",
        "allGenre = [x for x in allGenre if x is not None]\n"
      ],
      "metadata": {
        "id": "GlZW65KA8M_k"
      },
      "execution_count": null,
      "outputs": []
    },
    {
      "cell_type": "code",
      "source": [
        "plt.hist(allGenre,bins = len(set(allGenre)))\n",
        "plt.xticks(rotation='vertical');"
      ],
      "metadata": {
        "id": "bU4slfTP7MCf"
      },
      "execution_count": null,
      "outputs": []
    },
    {
      "cell_type": "markdown",
      "source": [
        "# Quiz15 หาพระเอก-นางเอก ที่มักจะแสดงคู่กัน ด้วย Histogram (พระเอก actor1, นางเอก actor2)"
      ],
      "metadata": {
        "id": "VjxOUy2eAFu1"
      }
    },
    {
      "cell_type": "markdown",
      "metadata": {
        "id": "j-JlZAllfmbD"
      },
      "source": [
        "## Tree map"
      ]
    },
    {
      "cell_type": "code",
      "source": [
        "# prompt: plot treemap of the genre\n",
        "\n",
        "import pandas as pd\n",
        "import matplotlib.pyplot as plt\n",
        "!pip install squarify\n",
        "\n",
        "import squarify\n",
        "\n",
        "# Assuming 'allGenre' contains the list of genres you want to plot\n",
        "genre_counts = pd.Series(allGenre).value_counts()\n",
        "\n",
        "# Create the treemap\n",
        "squarify.plot(sizes=genre_counts.values, label=genre_counts.index, alpha=.8 )\n",
        "plt.axis('off')\n",
        "plt.show()\n"
      ],
      "metadata": {
        "id": "7ZLVwXYLCcLB"
      },
      "execution_count": null,
      "outputs": []
    },
    {
      "cell_type": "markdown",
      "metadata": {
        "id": "CIGKmxz0gDIq"
      },
      "source": [
        "## Radar Chart"
      ]
    },
    {
      "cell_type": "code",
      "metadata": {
        "id": "vMOJRbQOf_rh"
      },
      "source": [
        "import numpy as np\n",
        "import pandas as pd  #import pandas มาเพราะข้อมูลจะเกี่ยวกับตาราง\n",
        "import matplotlib.pyplot as plt\n",
        "from math import pi #import math มาเนื่องจากเกี่ยวกับวงกลมนำมาใช้เพื่อดึงค่าพาย"
      ],
      "execution_count": null,
      "outputs": []
    },
    {
      "cell_type": "code",
      "metadata": {
        "id": "AGt1jp1EgM6D"
      },
      "source": [
        "data = {'client_id' : ['c1' , 'c2' , 'c3' , 'c4'],\n",
        "         'cheese' : [2,5,4,3],\n",
        "         'beer' : [2,1,3,5],\n",
        "         'chicken' : [5,3,3,4],\n",
        "        'bread' : [4,3,2,1],\n",
        "       'coffee' : [2,3,5,3]}\n",
        "df = pd.DataFrame.from_dict(data)\n",
        "df"
      ],
      "execution_count": null,
      "outputs": []
    },
    {
      "cell_type": "code",
      "metadata": {
        "id": "fOhn8HhAgQhX"
      },
      "source": [
        "categories = list(df.columns[1:])\n",
        "categories"
      ],
      "execution_count": null,
      "outputs": []
    },
    {
      "cell_type": "code",
      "metadata": {
        "id": "dnfmN4WngctW"
      },
      "source": [
        "values = df.mean().values.flatten().tolist()\n",
        "values += values[:1] # repeat the first value to close the circular graph\n",
        "angles = [n / float(len(categories)) * 2 * pi for n in range(len(categories))]\n",
        "angles += angles[:1]"
      ],
      "execution_count": null,
      "outputs": []
    },
    {
      "cell_type": "code",
      "metadata": {
        "id": "ixOULzEggiE6"
      },
      "source": [
        "fig, ax = plt.subplots(nrows=1, ncols=1, figsize=(8, 8),\n",
        "                       subplot_kw=dict(polar=True))\n",
        "\n",
        "plt.xticks(angles[:-1], categories, color='grey', size=12)\n",
        "plt.yticks(np.arange(1, 6), ['1', '2', '3', '4', '5'],\n",
        "           color='grey', size=12)\n",
        "\n",
        "plt.ylim(0, 5)\n",
        "ax.set_rlabel_position(30)\n",
        "\n",
        "ax.plot(angles, values, linewidth=1, linestyle='solid' , color = '#ea3033') #เส้นกราฟ\n",
        "ax.fill(angles, values, 'lightpink', alpha=0.5) #พื้นที่"
      ],
      "execution_count": null,
      "outputs": []
    },
    {
      "cell_type": "code",
      "metadata": {
        "id": "HAirAS3egpdd"
      },
      "source": [
        "angles = [n / float(len(categories)) * 2 * pi for n in range(len(categories))]\n",
        "angles += angles[:1]\n",
        "\n",
        "fig, ax = plt.subplots(nrows=1, ncols=1, figsize=(8, 8),\n",
        "                       subplot_kw=dict(polar=True))\n",
        "\n",
        "plt.xticks(angles[:-1], categories, color='grey', size=12)\n",
        "plt.yticks(np.arange(1, 6), ['1', '2', '3', '4', '5'],\n",
        "           color='grey', size=12)\n",
        "\n",
        "plt.ylim(0, 5)\n",
        "ax.set_rlabel_position(30)\n",
        "\n",
        "# part 1\n",
        "val_c1 = df.loc[0].drop('client_id').values.flatten().tolist()\n",
        "val_c1 += val_c1[:1]\n",
        "ax.plot(angles, val_c1, linewidth=1,\n",
        "        linestyle='solid', label='Client c1')\n",
        "ax.fill(angles, val_c1, 'skyblue', alpha=0.4)\n",
        "\n",
        "# part 2\n",
        "val_c2=df.loc[1].drop('client_id').values.flatten().tolist()\n",
        "val_c2 += val_c2[:1]\n",
        "ax.plot(angles, val_c2, linewidth=1,\n",
        "        linestyle='solid', label='Client c2')\n",
        "ax.fill(angles, val_c2, 'lightpink', alpha=0.4)\n",
        "\n",
        "plt.legend(loc='upper right', bbox_to_anchor=(0.1, 0.1))"
      ],
      "execution_count": null,
      "outputs": []
    },
    {
      "cell_type": "markdown",
      "source": [
        "# HW9 present radar chart data india"
      ],
      "metadata": {
        "id": "8KGvmevfGveH"
      }
    },
    {
      "cell_type": "code",
      "metadata": {
        "id": "kk5foeCMg1z4"
      },
      "source": [],
      "execution_count": null,
      "outputs": []
    }
  ]
}